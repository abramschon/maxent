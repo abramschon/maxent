{
 "cells": [
  {
   "cell_type": "markdown",
   "id": "51257f37",
   "metadata": {},
   "source": [
    "# Coarse models\n",
    "Here, we model the joint probability distribution over a set of binary neurons using 2 different simplistic models. We consider the maximum entropy distribution that reproduces the *probability that K cells spike*, the population count model, and distribution that reproduces the *mean probability of neurons spiking*, the independent model. "
   ]
  },
  {
   "cell_type": "markdown",
   "id": "dd7bec48",
   "metadata": {},
   "source": [
    "## Independent Model"
   ]
  },
  {
   "cell_type": "markdown",
   "id": "c7260cfb",
   "metadata": {},
   "source": [
    "### Set no. of neurons/spins"
   ]
  },
  {
   "cell_type": "code",
   "execution_count": 1,
   "id": "74acaba5",
   "metadata": {},
   "outputs": [
    {
     "data": {
      "text/html": [
       "<div><pre style=\"&#102;&#111;&#110;&#116;&#45;&#102;&#97;&#109;&#105;&#108;&#121;&#58;&#32;&#34;&#67;&#111;&#117;&#114;&#105;&#101;&#114;&#32;&#78;&#101;&#119;&#34;&#44;&#67;&#111;&#117;&#114;&#105;&#101;&#114;&#44;&#109;&#111;&#110;&#111;&#115;&#112;&#97;&#99;&#101;&#59;\">&#50;</pre></div>"
      ],
      "text/plain": [
       "2"
      ]
     },
     "execution_count": 1,
     "metadata": {
      "text/html": [],
      "text/plain": []
     },
     "output_type": "execute_result"
    }
   ],
   "source": [
    "NN = 2"
   ]
  },
  {
   "cell_type": "markdown",
   "id": "2af1a421",
   "metadata": {},
   "source": [
    "### Construct the Hamiltonian"
   ]
  },
  {
   "cell_type": "code",
   "execution_count": 2,
   "id": "815a95ac",
   "metadata": {},
   "outputs": [
    {
     "data": {
      "text/html": [
       "<div><img alt=\"Output\" src=\"data:image/png;base64,iVBORw0KGgoAAAANSUhEUgAAAJQAAAARCAIAAAC0IxLoAAAAznpUWHRSYXcgcHJvZmlsZSB0eXBlIGV4aWYAAHjabU9BDsMgDLvzij2BJODAc2hLpf1gz18CbFOnWmrsGBOa0F/PMzwcTDGkrAUViIZUU+VmosSJyRTrqAM1rTO6+oGWoGZW/h2gL3+7+orJXP4GRZ5C/AXTsl7UNUh4+tRmv608t1JuB32QyvfX73tRRgZpspo4qqKaLsGkETLHrDixAxYkHBzTbtyhategnpDmFx3c9ZruAWLG4SuIfyTNWEe1razPpllkOIW3kXLt67wBFbxaiy6Qd4IAAAAJcEhZcwAACxMAAAsTAQCanBgAAAA8dEVYdFNvZnR3YXJlAENyZWF0ZWQgd2l0aCB0aGUgV29sZnJhbSBMYW5ndWFnZSA6IHd3dy53b2xmcmFtLmNvbVyipoUAAAAhdEVYdENyZWF0aW9uIFRpbWUAMjAyMTowNzowMyAxNToyMzowOKUPXcoAAAOFSURBVFiF7ZlPSDJBGMZnF0vEpRYCCSmEgoouddEOdRA6hBCEddBbgdAh6GR26OChU5cgCCJoAw0iCewP5KnDBm204KIRrPRHAotMBBVajMTW+Q6GhPbp7Jp9n+Bzmh3f2d/z8OrsLGIQQtBQfQr/1wYakq9G8+pYjebVsfB0Oo3jeDAYzF9TFNXX1/e14unpiWGYQgEA4O3t7fj4eGZmZm5uruh2DMMwDJNKpWRY+TWQjMgcx5nNZp1OZzAYvF7vTzmpEoRDCIvOLEWXLpeLZdmXl5fCTDQa3dvbCwQC19fXRQsjkYjH47m8vJSR5NdAUiMLgmC1Wo1G4+Hh4fj4uMViCYVCP+KkWpAgCACAQCCQj7S1tdXT0wO/aHl5+f7+HpZodXV1eHi4dN7j8fh8vtJ5CGE4HDYajQRBaDSaqakpnudrBCovGZFFUSyMOzo63G43ohOpkSWBFPkWHhwcXF1dAQAuLi5kfIMQtbi42NzcHAqF0um0y+WSt9Wgi6bprq4unU737aeSIuP45+Hg9fU1Ho/39vYiepAaWRLos3lHR0dqtRoAEI/Hm5qaEJ1JVUtLi9/vv7m5GR0dXVlZqRGlIJ7nCYL4W/PkRXY4HHq93mAwINbLjowC+uzzzs4Oy7Isyy4tLaEDpGp9fX1yctJqtWq12oWFhUQiUSNQMBikafr29pbjOJqmw+FwaY2MyJubm/v7+xRFYRiGuEReZETQr74qEASxtrYWi8U2NjZOTk7sdnuNQLFY7PHxMZVK5QfJZLL6e+7u7trtdq/XW3Q0LS8ZkdFBCnQfBWUyGQhhNpsVRfH9/R3DMKVSWXGVKIoOh2N6enpgYMBsNp+dnZ2entYCBAAwmUwAAEEQhoaG9Ho9ypLyoihqfn7e7XYPDg4mk0kcx0mSrLhKRmRJIEXRDxNlQxgZGeE4Lj9WqVQkSaIcPT4+PkiSNJlMmUwml8upVKrt7e1agArq7OxsbW0tnZcaORqNzs7OQggtFkt+pru7+9utuEhSI0sFKdRqNfzylmOz2Ww2W3lPfr+/ou9SKZVKp9PpdDoTiUQ2m9VoNIWT1c+CCpqYmPh2XmpkrVaby+VkGJAaWSoI6Zn38PAQiURQKu/u7p6fn8vXtLW1tbe3fxvjZ0HVqC4iV27e2NgYz/Pn5+cVKyGEPp8Pw7D+/n4UN/8K9P84qRKEwcb/eXWrP38lJt1fjbduAAAAAElFTkSuQmCC\"></div>"
      ],
      "text/plain": [
       "H[1] s[1] + H[2] s[2]"
      ]
     },
     "execution_count": 2,
     "metadata": {
      "text/html": [],
      "text/plain": []
     },
     "output_type": "execute_result"
    }
   ],
   "source": [
    "Hamiltonian = Sum[ H[i] s[i], {i, 1, NN}] // Expand"
   ]
  },
  {
   "cell_type": "markdown",
   "id": "7bb968a5",
   "metadata": {},
   "source": [
    "### Construct the partition function `Z`\n",
    "We chose to represent a neuron firing with a 1 and it being silent with a 0."
   ]
  },
  {
   "cell_type": "code",
   "execution_count": 3,
   "id": "4b507cb8",
   "metadata": {},
   "outputs": [
    {
     "data": {
      "text/html": [
       "<style>\n",
       "\t\t\t\t\t\t\t\t\t\t\t\t\t.grid-container {\n",
       "\t\t\t\t\t\t\t\t\t\t\t\t\t\tdisplay: inline-grid;\n",
       "\t\t\t\t\t\t\t\t\t\t\t\t\t\tgrid-template-columns: auto;\n",
       "\t\t\t\t\t\t\t\t\t\t\t\t\t}\n",
       "\t\t\t\t\t\t\t\t\t\t\t\t</style>\n",
       "\n",
       "\t\t\t\t\t\t\t\t\t\t\t\t<div><div class=\"grid-container\"><div class=\"grid-item\"><img alt=\"Output\" src=\"data:image/png;base64,iVBORw0KGgoAAAANSUhEUgAAAOsAAAARCAIAAACzYcz9AAAAz3pUWHRSYXcgcHJvZmlsZSB0eXBlIGV4aWYAAHjabU/bDcMgDPxnio6AH5xhHJISqRt0/NqBtkrVk/Cdz4/EaTwfR7oFmHLSYhUNyA5t2ri7qHliMuV2xhNjWzW6+omWoO5W+RYwlr9dfcNkrj+LMk8h8QXXomtgLRKePvWZb6ufe61/F72h9fPr/3MxRgGZelTOZmiua3LphMK5GA7sgDcS7px1dx4w8zFYdEiPwQAPu3aPBHHjHidIPJLubGf0qzwvrlnUo4jydnZFNc55AZp+WuXlR0AZAAAACXBIWXMAAAsTAAALEwEAmpwYAAAAPHRFWHRTb2Z0d2FyZQBDcmVhdGVkIHdpdGggdGhlIFdvbGZyYW0gTGFuZ3VhZ2UgOiB3d3cud29sZnJhbS5jb21coqaFAAAAIXRFWHRDcmVhdGlvbiBUaW1lADIwMjE6MDc6MDMgMTU6MjQ6MzQaQ3qbAAADkklEQVRoge2aPywzYRzHn5aqJyq58ycMBovowEAiOdHF1MZqsBjMjVUiqUEYSMRuII2wiIigg6HEhKRS6WBRIWFopBVpE+6K9nmHvm/V89yfp3f39G3lPovm+9zv93z8PD1HakMIAQuLmsX+vwUsLAxhnWCL2sY6wRa1zY8TLIri7e0teRGW53K5QCDgdrsHBwc3NjbK3VKl/Obm5uvrq9yGTG3f398PDg6mpqb8fj+2xMJWZTsaKjxbg7Y6ZiuTo39Eo1GfzxcOh9FPyHx+ft7tdp+fnx8eHvI8HwqFUDmolAeDQa/X+/n5WVZDprbxeHxiYqK/v39kZARbYmGrsh0NFZ6tQVsdsyXz7xO8uLgYjUbJbci8o6Njf3+/8DoQCIyNjZXlrV6+vr5OvovoMd22wOrqquwPyXRb9e00qfBsC+i2VS9XssVye+nNuLm5mbxvY3kmk3l+fhYEYWtr6+zsbHh4OB6P0//i0Cx3uVzZbJa+IVNbTcy1NUiFZ8saJVss/z7B+XxethGWp1IpAADP8zMzM0tLSzzPJ5NJei2a8lwuR9+QqS0NJtoapMKzrQBKtqX53xN8cXFxdXXV3d2NXUrmLS0tAIB0Or29vb2yspJOp1tbW+mdNMuHhoY2Nzfv7+/pe7Kz1cRcW4NUeLasUbLF8vrCl2Qy6XQ66+rqsKvJnOM4juOur6+9Xi8A4OjoCPuuEokEhJDjOFktzXIIoSRJmUwGK1Rvy8hWE3NtNamq2Rq01UTJFs+LT8Rzc3N3d3fkgzOZT09Pezyet7e3x8fHrq6uYDBYXHp9fYUQtrW1ZbNZpSd3lXKE0M7Ozt7eHlZC05aRrSRJoiguLy8LgiCKoiRJTG1VtqvC2Rq01TFbMv9+Dm5oaEByn5Eg84WFBYfD0d7e3tPT4/P5Jicni0tNTU19fX2pVEr2/8qa5YV3VGNjI1ZC05aRrcfjgRDOzs5eXl5CCDs7O5naqmxXhbM1aKtjtmReX3xlt9tl//Qjc57nT09PX15enE6ny+UqXXI4HLu7uwMDA729vUreKuUAgI+PD5vNhoU0bRnZRiIRle1Mt1XZrgpna9BWx2xl8uLdOBKJjI+Px2Ix7KatlMvy8PAgCILf76e5mCQcDo+Ojj49Pelua9kq8TtsyRyULsdisZOTE7KdUk4SCoXW1tby+Xz5zgghdHx8nEgkDLa1bGX5HbZkbkPW54Mtapk/nJjLjKaT0/QAAAAASUVORK5CYII=\"></div><div class=\"grid-item\"><img alt=\"Output\" src=\"data:image/png;base64,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\"></div><div class=\"grid-item\"><img alt=\"Output\" src=\"data:image/png;base64,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\"></div></div></div>"
      ],
      "text/plain": [
       "{{0, 0}, {0, 1}, {1, 0}, {1, 1}}\n",
       "{{s[1] -> 0, s[2] -> 0}, {s[1] -> 0, s[2] -> 1}, {s[1] -> 1, s[2] -> 0}, \n",
       " \n",
       ">   {s[1] -> 1, s[2] -> 1}}\n",
       " -H[1] - H[2]       H[1]        H[2]\n",
       "E             (1 + E    ) (1 + E    )"
      ]
     },
     "execution_count": 3,
     "metadata": {
      "text/html": [],
      "text/plain": []
     },
     "output_type": "execute_result"
    }
   ],
   "source": [
    "spinvals = (PadLeft[IntegerDigits[#, 2], NN] & /@ \n",
    "     Range[0, 2^NN - 1]) \n",
    "reps = Table[s[i] -> #[[i]], {i, NN}] & /@ spinvals\n",
    "Z = Total[(Exp[-Hamiltonian] /. reps)] // ExpToTrig // FullSimplify"
   ]
  },
  {
   "cell_type": "markdown",
   "id": "3de29887",
   "metadata": {},
   "source": [
    "### Construct the probability distribution `p`"
   ]
  },
  {
   "cell_type": "code",
   "execution_count": 6,
   "id": "661418b2",
   "metadata": {},
   "outputs": [
    {
     "data": {
      "text/html": [
       "<div><img alt=\"Output\" src=\"data:image/png;base64,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\"></div>"
      ],
      "text/plain": [
       " H[1] + H[2] - H[1] s[1] - H[2] s[2]\n",
       "E\n",
       "------------------------------------\n",
       "            H[1]        H[2]\n",
       "      (1 + E    ) (1 + E    )"
      ]
     },
     "execution_count": 6,
     "metadata": {
      "text/html": [],
      "text/plain": []
     },
     "output_type": "execute_result"
    }
   ],
   "source": [
    "pInd = Exp[-Hamiltonian]/Z "
   ]
  },
  {
   "cell_type": "markdown",
   "id": "384cd0ed",
   "metadata": {},
   "source": [
    "### Compute the expectations"
   ]
  },
  {
   "cell_type": "code",
   "execution_count": 7,
   "id": "4dc01024",
   "metadata": {
    "scrolled": true
   },
   "outputs": [
    {
     "data": {
      "text/html": [
       "<div><img alt=\"Output\" src=\"data:image/png;base64,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\"></div>"
      ],
      "text/plain": [
       "     1          1\n",
       "{---------, ---------}\n",
       "      H[1]       H[2]\n",
       " 1 + E      1 + E"
      ]
     },
     "execution_count": 7,
     "metadata": {
      "text/html": [],
      "text/plain": []
     },
     "output_type": "execute_result"
    }
   ],
   "source": [
    "Averages = Table[ Total[s[i] pInd /. reps] // ExpToTrig // FullSimplify, {i,NN} ] "
   ]
  },
  {
   "cell_type": "markdown",
   "id": "2032949d",
   "metadata": {},
   "source": [
    "### Solve for `H` given observed expectations\n",
    "Let us say that each neuron `i` has an expected value `a[i]`. We can solve for `H[i]` in terms of each `a[i]`. "
   ]
  },
  {
   "cell_type": "code",
   "execution_count": 8,
   "id": "3aa6996d",
   "metadata": {},
   "outputs": [
    {
     "data": {
      "text/html": [
       "<div><img alt=\"Output\" src=\"data:image/png;base64,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\"></div>"
      ],
      "text/plain": [
       "                                    1 - a[1]\n",
       "{{H[1] -> ConditionalExpression[Log[--------], 0 < a[1] < 1 && 0 < a[2] < 1], \n",
       "                                      a[1]\n",
       " \n",
       "                                       1 - a[2]\n",
       ">    H[2] -> ConditionalExpression[Log[--------], 0 < a[1] < 1 && 0 < a[2] < 1]}}\n",
       "                                         a[2]"
      ]
     },
     "execution_count": 8,
     "metadata": {
      "text/html": [],
      "text/plain": []
     },
     "output_type": "execute_result"
    }
   ],
   "source": [
    "Solve[Averages[[#]] == a[#]& /@ Range[NN], H[#]& /@ Range[NN], Reals] "
   ]
  },
  {
   "cell_type": "markdown",
   "id": "f6da21c7",
   "metadata": {},
   "source": [
    "## Population Count Model\n",
    "The population count model is a bit simpler. It needs to reproduce the probability that `K` neurons fire, which is measured experimentally. All states where `K` neurons fire are assumed to be equally probable, thus we divide the experimentally measured probabilities `pK` among the `N` choose `K` states. Thus, we have a model of the form:"
   ]
  },
  {
   "cell_type": "code",
   "execution_count": 29,
   "id": "533060b4",
   "metadata": {},
   "outputs": [
    {
     "data": {
      "text/html": [
       "<div><img alt=\"Output\" src=\"data:image/png;base64,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\"></div>"
      ],
      "text/plain": [
       "    pK[s[1] + s[2]]\n",
       "------------------------\n",
       "Binomial[2, s[1] + s[2]]"
      ]
     },
     "execution_count": 29,
     "metadata": {
      "text/html": [],
      "text/plain": []
     },
     "output_type": "execute_result"
    }
   ],
   "source": [
    "pCount = pK[#]/ Binomial[NN, #] &[Sum[s[i],{i,NN}]]"
   ]
  }
 ],
 "metadata": {
  "kernelspec": {
   "display_name": "Wolfram Language 12.3",
   "language": "Wolfram Language",
   "name": "wolframlanguage12.3"
  },
  "language_info": {
   "codemirror_mode": "mathematica",
   "file_extension": ".m",
   "mimetype": "application/vnd.wolfram.m",
   "name": "Wolfram Language",
   "pygments_lexer": "mathematica",
   "version": "12.0"
  }
 },
 "nbformat": 4,
 "nbformat_minor": 5
}
