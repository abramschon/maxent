{
 "cells": [
  {
   "cell_type": "markdown",
   "id": "2e2e16f0",
   "metadata": {},
   "source": [
    "# Analytic Ising Model\n",
    "We try analytically solve the inverse Ising problem using the Wolfram language. As we go along, I will explain aspects of the Wolfram language that were not obvious to me."
   ]
  },
  {
   "cell_type": "markdown",
   "id": "9f8cb304",
   "metadata": {},
   "source": [
    "### Set no. of neurons/spins:"
   ]
  },
  {
   "cell_type": "code",
   "execution_count": 1,
   "id": "1fe236f2",
   "metadata": {},
   "outputs": [
    {
     "data": {
      "text/html": [
       "<div><pre style=\"&#102;&#111;&#110;&#116;&#45;&#102;&#97;&#109;&#105;&#108;&#121;&#58;&#32;&#34;&#67;&#111;&#117;&#114;&#105;&#101;&#114;&#32;&#78;&#101;&#119;&#34;&#44;&#67;&#111;&#117;&#114;&#105;&#101;&#114;&#44;&#109;&#111;&#110;&#111;&#115;&#112;&#97;&#99;&#101;&#59;\">&#50;</pre></div>"
      ],
      "text/plain": [
       "2"
      ]
     },
     "execution_count": 1,
     "metadata": {
      "text/html": [],
      "text/plain": []
     },
     "output_type": "execute_result"
    }
   ],
   "source": [
    "NN = 2"
   ]
  },
  {
   "cell_type": "markdown",
   "id": "cac2a754",
   "metadata": {},
   "source": [
    "### Construct the Hamiltonian"
   ]
  },
  {
   "cell_type": "code",
   "execution_count": 2,
   "id": "0da5451d",
   "metadata": {},
   "outputs": [
    {
     "data": {
      "text/html": [
       "<div><img alt=\"Output\" src=\"data:image/png;base64,iVBORw0KGgoAAAANSUhEUgAAAR0AAAARCAIAAABvve/jAAAAznpUWHRSYXcgcHJvZmlsZSB0eXBlIGV4aWYAAHjadU9bDsMgDPvnFDtCXiRwHNoyaTfY8WcK09RKs0TiOE5QUn+/nukxIEzJchSv7gRYtSoNpNDEzEz1jLM4FuOrnvhraJDyr+F96dtVD59Zym0RySQ6fgBXWwNrkcrUuc16W35ppVwX3WDfs/hPrSGencMQTSjCK3hJoEiehXL403d3GNkPIduRu0dgzGM4tI3BAelxdffkCuEYJ+h4rA1PEFFhlLWciiGaVtmg09kd53wAUE1asz4Yk2YAAAAJcEhZcwAACxMAAAsTAQCanBgAAAA8dEVYdFNvZnR3YXJlAENyZWF0ZWQgd2l0aCB0aGUgV29sZnJhbSBMYW5ndWFnZSA6IHd3dy53b2xmcmFtLmNvbVyipoUAAAAhdEVYdENyZWF0aW9uIFRpbWUAMjAyMToxMjowMiAxODoxNDo0OWImsqoAAATvSURBVGiB7ZpLSDJdHMaPVoooJQQRUggJFSF0gS5QlFEQQhDWIoMiQSgIgsBs0cJFLWojBEUEGWQQRaEV1KqFQUaCUhEoZRJZeEEwJemG6bwL+yQ0x5mTM75vn7/VeDozz/P8zznOzDEKgiAgQ4YMKYWabgMZMvxCMusqQ4bUk51uAxnI4+szP4VCSaOTXw/1+fmZSqWen59HPqtUqvLy8q89Hh4e9Hp9tAMA4OXlZW9vTyKRjIyMxFxOr9fr9XqfzwdhhTQhiMgmk0kkEnG53Lq6Oo1GkyonpAkBALRaLfULMzMz6E5Qio8F0ipG2mzElYiKIEjM1kXMx9XVVYPB4HK5oi1Op3NjY+Ps7Ozy8jLmRLvdvrm5eXp6CpGENCG8kQOBgFgsFggEOzs7nZ2dvb29FoslJU5IEwIAdHV1Bf6jubk5FAqhOAGJi48F0iqG4jPNQxMIBAAAZ2dnkdm2vLxcWlqKfGFqaurm5gaJQ6lUNjY2xrdvbm4eHBzEtyMIYrPZBAIBi8UqKCjo6ekxm80ECaEDETkUCkWPi4qK1Go1Rid4I0ML4aK1tXV6ehrdSYRExU8KaRVD95muofl8v9JqtRcXFwCAk5MTiMWNkYmJCRqNZrFYnp+fV1dXoR9pMKLT6UpKSrhc7rd/xRWZSv3c4Hl6evJ4PGVlZRg94I0MLRQBPTKZkFYxaAgdms91tbu7y2QyAQAejycnJycVtr8hNzfXaDReXV21tbXNzs4SpBLFbDazWKxEkwwuslwur62traurw9gfOjJeoQjokdMCaRXDC6FD87kE19bWDAaDwWCYnJz8kVlU5ufnu7u7xWIxh8MZHx/3er0ECZ2fn+t0uuvra5PJpNPpbDZbfB+IyEtLS1tbWyqVCvtmGlxkCCEskaMgZP0zAGkVg4DQoSH19ysWizU3N+d2uxcXF/f392UyGUFCbrf7/v7e5/NFDh4fH39+zfX1dZlMptFoYjYP0YGIDCeUNPLr62v02Gq1Ru7V0LhcLr/fj96HtIrBQejQwPx+9f7+jiBIMBgMhUJvb28UCoVOpyc9KxQKyeXywcHByspKkUh0dHR0eHhIhBAAQCgUAgACgUB9fX1tbS2WU9BRqVSjo6Nqtbqqqurx8ZFKpbLZ7KRnQUSGEwLJIiMI0tDQMDAwMDw8rNFonE5nTU0N+gVRiu/3+3k8HpPJdDgcNBothUFImyRED012zO0My/26qanJZDJFjhkMBpvNxvJy+fHxwWazhULh+/t7OBxmMBgrKytECEUpLi7Oy8uLb8cb2el0Dg0NIQjS29sbaeHxeOgPWhHwRoYWioISWalU9vf3y+XyrKyssbGxlpYW9EuhFJ/JZPL5fKPRaLVa+Xx+CoOQNkmIHppsJpP59WlbKpVKpVJ0T0ajManveOh0ukKhUCgUXq83GAwWFBREN1hSKxSlq6vr23a8kTkcTjgchjCANzK0UJREkQEA7e3tbrfb6XTm5+dj+UZHKX5OTs729nZ1dXWiPTHSKobuM4VCeBNher+6vb212+1YelqtVofDgd4nPz+/sLDw2xipFfoJvzUyh8NJtKiwO7m7uxOLxX19fXBbx39VxQgSSr6uOjo6zGbz8fFx0p4IghwcHFAolIqKCixu0iX09zj5FyMDAMxms0QiWVhYgBD6Vyr2QyEKaVuuGTL8f/gD7LYAX3zqDukAAAAASUVORK5CYII=\"></div>"
      ],
      "text/plain": [
       "H[1] s[1] + H[2] s[2] + J[1, 2] s[1] s[2]"
      ]
     },
     "execution_count": 2,
     "metadata": {
      "text/html": [],
      "text/plain": []
     },
     "output_type": "execute_result"
    }
   ],
   "source": [
    "Hamiltonian =  Sum[J[i, j] s[i] s[j], {j, 1, NN}, {i, 1,j-1}] + \n",
    "    Sum[ H[i] s[i], {i, 1, NN}] // Expand"
   ]
  },
  {
   "cell_type": "markdown",
   "id": "91489963",
   "metadata": {},
   "source": [
    "In Wolfram, named functions take the form `Function[ args ]`. An important concept is that of [iterators](https://www.wolfram.com/language/fast-introduction-for-programmers/en/iterators/). For instance, the function `Sum[ i, {i,1,5,2} ]` will sum over the variable `i` from `1` to `5` incrementing by `2` each time. "
   ]
  },
  {
   "cell_type": "code",
   "execution_count": 4,
   "id": "f8b5f1a2",
   "metadata": {},
   "outputs": [
    {
     "data": {
      "text/html": [
       "<div><pre style=\"&#102;&#111;&#110;&#116;&#45;&#102;&#97;&#109;&#105;&#108;&#121;&#58;&#32;&#34;&#67;&#111;&#117;&#114;&#105;&#101;&#114;&#32;&#78;&#101;&#119;&#34;&#44;&#67;&#111;&#117;&#114;&#105;&#101;&#114;&#44;&#109;&#111;&#110;&#111;&#115;&#112;&#97;&#99;&#101;&#59;\">&#57;</pre></div>"
      ],
      "text/plain": [
       "9"
      ]
     },
     "execution_count": 4,
     "metadata": {
      "text/html": [],
      "text/plain": []
     },
     "output_type": "execute_result"
    }
   ],
   "source": [
    "Sum[i,{i,1,5,2}]"
   ]
  },
  {
   "cell_type": "markdown",
   "id": "5fd5c33d",
   "metadata": {},
   "source": [
    "### Construct the partition function `Z`\n",
    "We can choose to represent whether the neuron is silent or fires as either {0,1}, or as {-1,1}. "
   ]
  },
  {
   "cell_type": "code",
   "execution_count": 5,
   "id": "290b7c3a",
   "metadata": {},
   "outputs": [
    {
     "data": {
      "text/html": [
       "<style>\n",
       "\t\t\t\t\t\t\t\t\t\t\t\t\t.grid-container {\n",
       "\t\t\t\t\t\t\t\t\t\t\t\t\t\tdisplay: inline-grid;\n",
       "\t\t\t\t\t\t\t\t\t\t\t\t\t\tgrid-template-columns: auto;\n",
       "\t\t\t\t\t\t\t\t\t\t\t\t\t}\n",
       "\t\t\t\t\t\t\t\t\t\t\t\t</style>\n",
       "\n",
       "\t\t\t\t\t\t\t\t\t\t\t\t<div><div class=\"grid-container\"><div class=\"grid-item\"><img alt=\"Output\" src=\"data:image/png;base64,iVBORw0KGgoAAAANSUhEUgAAAOsAAAARCAIAAACzYcz9AAAAz3pUWHRSYXcgcHJvZmlsZSB0eXBlIGV4aWYAAHjabU/bDcMgDPxnio6AH5xhHJISqRt0/NqBtkrVk/Cdz4/EaTwfR7oFmHLSYhUNyA5t2ri7qHliMuV2xhNjWzW6+omWoO5W+RYwlr9dfcNkrj+LMk8h8QXXomtgLRKePvWZb6ufe61/F72h9fPr/3MxRgGZelTOZmiua3LphMK5GA7sgDcS7px1dx4w8zFYdEiPwQAPu3aPBHHjHidIPJLubGf0qzwvrlmqxyLK29kV1TjnBZr6WuvniUiDAAAACXBIWXMAAAsTAAALEwEAmpwYAAAAPHRFWHRTb2Z0d2FyZQBDcmVhdGVkIHdpdGggdGhlIFdvbGZyYW0gTGFuZ3VhZ2UgOiB3d3cud29sZnJhbS5jb21coqaFAAAAIXRFWHRDcmVhdGlvbiBUaW1lADIwMjE6MDc6MDMgMTU6Mjg6NTQGz2KlAAADkklEQVRoge2aPywzYRzHn5aqJyq58ycMBovowEAiOdHF1MZqsBjMjVUiqUEYSMRuII2wiIigg6HEhKRS6WBRIWFopBVpE+6K9nmHvm/V89yfp3f39G3lPovm+9zv93z8PD1HakMIAQuLmsX+vwUsLAxhnWCL2sY6wRa1zY8TLIri7e0teRGW53K5QCDgdrsHBwc3NjbK3VKl/Obm5uvrq9yGTG3f398PDg6mpqb8fj+2xMJWZTsaKjxbg7Y6ZiuTo39Eo1GfzxcOh9FPyHx+ft7tdp+fnx8eHvI8HwqFUDmolAeDQa/X+/n5WVZDprbxeHxiYqK/v39kZARbYmGrsh0NFZ6tQVsdsyXz7xO8uLgYjUbJbci8o6Njf3+/8DoQCIyNjZXlrV6+vr5OvovoMd22wOrqquwPyXRb9e00qfBsC+i2VS9XssVye+nNuLm5mbxvY3kmk3l+fhYEYWtr6+zsbHh4OB6P0//i0Cx3uVzZbJa+IVNbTcy1NUiFZ8saJVss/z7B+XxethGWp1IpAADP8zMzM0tLSzzPJ5NJei2a8lwuR9+QqS0NJtoapMKzrQBKtqX53xN8cXFxdXXV3d2NXUrmLS0tAIB0Or29vb2yspJOp1tbW+mdNMuHhoY2Nzfv7+/pe7Kz1cRcW4NUeLasUbLF8vrCl2Qy6XQ66+rqsKvJnOM4juOur6+9Xi8A4OjoCPuuEokEhJDjOFktzXIIoSRJmUwGK1Rvy8hWE3NtNamq2Rq01UTJFs+LT8Rzc3N3d3fkgzOZT09Pezyet7e3x8fHrq6uYDBYXHp9fYUQtrW1ZbNZpSd3lXKE0M7Ozt7eHlZC05aRrSRJoiguLy8LgiCKoiRJTG1VtqvC2Rq01TFbMv9+Dm5oaEByn5Eg84WFBYfD0d7e3tPT4/P5Jicni0tNTU19fX2pVEr2/8qa5YV3VGNjI1ZC05aRrcfjgRDOzs5eXl5CCDs7O5naqmxXhbM1aKtjtmReX3xlt9tl//Qjc57nT09PX15enE6ny+UqXXI4HLu7uwMDA729vUreKuUAgI+PD5vNhoU0bRnZRiIRle1Mt1XZrgpna9BWx2xl8uLdOBKJjI+Px2Ix7KatlMvy8PAgCILf76e5mCQcDo+Ojj49Pelua9kq8TtsyRyULsdisZOTE7KdUk4SCoXW1tby+Xz5zgghdHx8nEgkDLa1bGX5HbZkbkPW54Mtapk/nJjLjKaT0/QAAAAASUVORK5CYII=\"></div><div class=\"grid-item\"><img alt=\"Output\" src=\"data:image/png;base64,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\"></div><div class=\"grid-item\"><img alt=\"Output\" src=\"data:image/png;base64,iVBORw0KGgoAAAANSUhEUgAAAO8AAAARCAIAAAC6imyHAAAA0HpUWHRSYXcgcHJvZmlsZSB0eXBlIGV4aWYAAHjabU/bbcQwDPv3FDeCJdmUPY5z5wDdoOMfFbstUhwBixT1SJTm99eZHgGVnEr1hg5kovTSdVC0vLBYcr/ihXnumtz9JFvIoFX/CpjbP+6+Y7G2f4uyLmHxBWore2AvMl2+jJUfu19Hax8X/aC031//nJsrKsQLY9Hsjk7dEiUJVXN1nHgCbBS8NJcnecKdY/DosBGDAZ1+754JRuMVJ1g8sUH2K/Iq5pVarTFWq3pcXVGNc96g7lrwSvIzYgAAAAlwSFlzAAALEwAACxMBAJqcGAAAADx0RVh0U29mdHdhcmUAQ3JlYXRlZCB3aXRoIHRoZSBXb2xmcmFtIExhbmd1YWdlIDogd3d3LndvbGZyYW0uY29tXKKmhQAAACF0RVh0Q3JlYXRpb24gVGltZQAyMDIxOjA3OjAzIDE1OjI4OjU1cchSMwAABBNJREFUaIHtmT9IAm0YwB/TFE1Sa4g0h9LAgpoMo39DSzgoQURTRJAuTdUiTS3pUi6GtSQUYVektRj0h6BwDCIoQ6JwSDEJtfzTmeR9w/H59WnpmZ5F3G96z3t9nt/z+r7nvXc0DMOgXEQikXg8XldXBwD39/dNTU1lS00E4nrhcJjH49FotDLakTh6pBZ+d3eHoigACAQCoVBYjGf+7FgZ2dnZmZqawjDs7e1NIpGkP19eXjaZTM/Pz/ihwWAQiUSrq6vpDqenp1qtNhaL/bie2+3u7e1VKpUymezm5ua36WHfGj1SCzcYDJOTk2q1WqPREHfOgGB2RjFrpVTEYrGZmZn04fT0dCKR+Nihr68Pr6HsagD/1xMKhVartaGhwWw2IwgyNzf3q/SgpKNXksJ1Oh0AHB8fb29vE3fOgGD2cs/mg4OD8fHxVCqVow+TyaysrCyb0kfy6nG5XC6XCwBXV1f9/f1lVAMgc/R+tvC8zgSzMwAgHo8fHR3t7u5yOByz2VwqRTws3haJRHK5HADkcvns7GwymVSr1aVK9D2K0dva2np4eBgaGvqdeuRFzl34p5FxSvLHlXfYGQDg8/k2NzddLld1dXXxKdOwWKy2tja8XVVVhTdqa2ubm5uTyWQJE32Pb+ttbGysr6/v7e2Rugskb/TIKzw7ciwWu7y87OrqcrlcPB6vIE+LxSKXy9vb2wlmB3w2S6VSBEGMRqPdbi8oX27odHrG7jjtkUPI6/WOjY15PB4mk+lwOGw2WwmVitc7PDwcHR1VKBQDAwMikQhBkF+lR2T0yCs8OzKKojqdLpVK+Xw+h8NRkLPJZGppabFarQSzA3x4prG4uNjd3Z1jc3pycuLxeD49lUgk5ufnJRKJSqWyWCyF7u4XFhby9llZWYlGo5QeSXqkRg4Gg6lUqtDINptNr9cXlL3iq7WYzfX1dSAQ+PSU0Wjc39/v7OxEEITNZms0GuJhAUAoFC4tLUUika86nJ2d3d7e0ul0So8kPVIjCwSCjKt+3sherxdBEK1WmyNsdnYa9u/tOX6n4XQ6s792cXERDoftdntra6tMJhOLxVKpNH0WRVGVSiUQCAYHB+vr6wFAq9W63e6KigKWSjFQehQ4hJ7Q+f3+QCAQCoX8fj+Hw0lvHXDi8TiLxQoGg6+vr09PTwCg1+vL+Z6M0qPAYQBAIpHAMCyZTL6/v6MoSqPRWCzWx05KpRIAIpGIQqHo6OjICFFTUxMOh/HryvDwMAA8Pj6W8/eg9ChwGADQ09Nzfn6OH7PZbD6fHwqFsruKxeKvHrKsra2NjIxMTEw4nc6Xlxc+n282mzOWBNlQehT/3TcXj8/ni0ajjY2NP/UmLzeU3p+nlLOZguJnoTbOFH8HajZT/B3+AZSD8qZ2t+NIAAAAAElFTkSuQmCC\"></div><div class=\"grid-item\"><img alt=\"Output\" src=\"data:image/png;base64,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\"></div></div></div>"
      ],
      "text/plain": [
       "{{0, 0}, {0, 1}, {1, 0}, {1, 1}}\n",
       "{{s[1] -> 0, s[2] -> 0}, {s[1] -> 0, s[2] -> 1}, {s[1] -> 1, s[2] -> 0}, \n",
       " \n",
       ">   {s[1] -> 1, s[2] -> 1}}\n",
       "     -H[1]    -H[2]    -H[1] - H[2] - J[1, 2]\n",
       "1 + E      + E      + E\n",
       "     -H[1] - L[1]    -H[2] - L[2]    -H[1] - H[2] - J[1, 2] - L[1] - L[2]\n",
       "1 + E             + E             + E"
      ]
     },
     "execution_count": 5,
     "metadata": {
      "text/html": [],
      "text/plain": []
     },
     "output_type": "execute_result"
    }
   ],
   "source": [
    "spinvals = (PadLeft[IntegerDigits[#, 2], NN] & /@ \n",
    "     Range[0, 2^NN - 1]) /. {0 -> 0}\n",
    "reps = Table[s[i] -> #[[i]], {i, NN}] & /@ spinvals\n",
    "Z = Total[(Exp[-Hamiltonian] /. reps)] "
   ]
  },
  {
   "cell_type": "markdown",
   "id": "34b55e56",
   "metadata": {},
   "source": [
    "One can define lambda functions, called *pure functions* by writing a function in terms of `#`s and ending it with a `&`. To then apply the function over multiple expressions, one can map it using `\\@`. For instance, below we construct the pure function that squares its argument `#^2&`, and then we apply to a list of containing the lists `{0,1}` and `{2,3}`. "
   ]
  },
  {
   "cell_type": "code",
   "execution_count": 9,
   "id": "1cc460c5",
   "metadata": {},
   "outputs": [
    {
     "data": {
      "text/html": [
       "<div><pre style=\"&#102;&#111;&#110;&#116;&#45;&#102;&#97;&#109;&#105;&#108;&#121;&#58;&#32;&#34;&#67;&#111;&#117;&#114;&#105;&#101;&#114;&#32;&#78;&#101;&#119;&#34;&#44;&#67;&#111;&#117;&#114;&#105;&#101;&#114;&#44;&#109;&#111;&#110;&#111;&#115;&#112;&#97;&#99;&#101;&#59;\">&#123;&#123;&#48;&#44;&#32;&#49;&#125;&#44;&#32;&#123;&#52;&#44;&#32;&#57;&#125;&#125;</pre></div>"
      ],
      "text/plain": [
       "{{0, 1}, {4, 9}}"
      ]
     },
     "execution_count": 9,
     "metadata": {
      "text/html": [],
      "text/plain": []
     },
     "output_type": "execute_result"
    }
   ],
   "source": [
    "#^2& /@ {{0,1},{2,3}}"
   ]
  },
  {
   "cell_type": "markdown",
   "id": "cec09ad6",
   "metadata": {},
   "source": [
    "Once we have an expression, for instance `x + y + z`, we can replace symbols with other ones. `/.` means *replace everywhere*. Below, we show how we can use it to replace `x` with `2` and `y` with `3`. It sort of copies the expression into the curly brackets and implements the suggested replacements."
   ]
  },
  {
   "cell_type": "code",
   "execution_count": 10,
   "id": "2704e80d",
   "metadata": {},
   "outputs": [
    {
     "data": {
      "text/html": [
       "<style>\n",
       "\t\t\t\t\t\t\t\t\t\t\t\t\t.grid-container {\n",
       "\t\t\t\t\t\t\t\t\t\t\t\t\t\tdisplay: inline-grid;\n",
       "\t\t\t\t\t\t\t\t\t\t\t\t\t\tgrid-template-columns: auto;\n",
       "\t\t\t\t\t\t\t\t\t\t\t\t\t}\n",
       "\t\t\t\t\t\t\t\t\t\t\t\t</style>\n",
       "\n",
       "\t\t\t\t\t\t\t\t\t\t\t\t<div><div class=\"grid-container\"><div class=\"grid-item\"><img alt=\"Output\" src=\"data:image/png;base64,iVBORw0KGgoAAAANSUhEUgAAAB4AAAARCAIAAABFBIsgAAAAzXpUWHRSYXcgcHJvZmlsZSB0eXBlIGV4aWYAAHjabU9BEsMgCLz7ij5BQBd9jmnMTH/Q5xfUtJNOmJFd1gUl9PfrCA8PphhS1oIKRItUU+VmpMQZEynWkWfR1x1d9UCnoZmUfxdYDbRddcVELn+DIk8i/oJxSathDRKeOrVZb8vPrZTbQWek8v36fS3KyCBNlhNHVVTjJRg1QOaYFQeegBkJO8f0NOxQtTaoO6R5owd3vbp7gJiw+wrih6QZ6si2ldXZOEsdSuZtuJz7Oh9SaVq3lQPRBwAAAAlwSFlzAAALEwAACxMBAJqcGAAAADx0RVh0U29mdHdhcmUAQ3JlYXRlZCB3aXRoIHRoZSBXb2xmcmFtIExhbmd1YWdlIDogd3d3LndvbGZyYW0uY29tXKKmhQAAACF0RVh0Q3JlYXRpb24gVGltZQAyMDIxOjA3OjAzIDE1OjI5OjA1tAPBEwAAAY1JREFUOI3VlDGLwkAQhcclIGIXBEVQSbCQiJ21/0ALEZVgIaYWxCDY2dpZ2AV7K0WsxEawFMEqYEBEhUBAMFoEwzVzRe68I6Y5Twtftftm52N3dnZdiAivEXkR923RFAAMBoNOp3OzqtVqoVB4Dnq9XiNis9m0rHg8/n/uF1rX9UQikU6nH6bUarXpdHqbhsPhyWTiQkRBEGRZZhjG7XZnMplsNuuYP5vNWJaNRCL3IVmWj8cjACyXy0aj0ev1BEEARGy32zzPS5JUKpUoipIkCZ3U7XYXi4VjyJKqqsFgsF6vW1OX7cnk83lN0+bz+W9ztVqdz+fhcMhxXCwWC4VC0WjUtvHr9ZpKpfx+/3g8JoTAffMlk0nDMGympmmHw0HXdWtwOp1sCxCxXC6bptnv9y0uAMB2u83lcvv9HhE3mw3DMKIo/rUgrVaLpmlFUT6+hYhwuVwqlYrH4/H5fISQYrFoGIZj/mg0UhTl3t/tdrZDEEJ+am2apqqqgUDA6/U6dccjsl/jE/We39MnUqlA9L6WOsYAAAAASUVORK5CYII=\"></div><div class=\"grid-item\"><img alt=\"Output\" src=\"data:image/png;base64,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\"></div></div></div>"
      ],
      "text/plain": [
       "5 + z\n",
       "{{2 + y + z, 3 + x + z}, 3 + x + z}"
      ]
     },
     "execution_count": 10,
     "metadata": {
      "text/html": [],
      "text/plain": []
     },
     "output_type": "execute_result"
    }
   ],
   "source": [
    "x + y + z /. {x->2, y->3}\n",
    "x + y + z /. {{{x->2}, {y->3}}, {y->3}}"
   ]
  },
  {
   "cell_type": "markdown",
   "id": "5b60cbcb",
   "metadata": {},
   "source": [
    "### Construct the probability distributionn `p`."
   ]
  },
  {
   "cell_type": "code",
   "execution_count": 12,
   "id": "5254e6c3",
   "metadata": {},
   "outputs": [
    {
     "data": {
      "text/html": [
       "<style>\n",
       "\t\t\t\t\t\t\t\t\t\t\t\t\t.grid-container {\n",
       "\t\t\t\t\t\t\t\t\t\t\t\t\t\tdisplay: inline-grid;\n",
       "\t\t\t\t\t\t\t\t\t\t\t\t\t\tgrid-template-columns: auto;\n",
       "\t\t\t\t\t\t\t\t\t\t\t\t\t}\n",
       "\t\t\t\t\t\t\t\t\t\t\t\t</style>\n",
       "\n",
       "\t\t\t\t\t\t\t\t\t\t\t\t<div><div class=\"grid-container\"><div class=\"grid-item\"><img alt=\"Output\" src=\"data:image/png;base64,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\"></div><div class=\"grid-item\"><img alt=\"Output\" src=\"data:image/png;base64,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\"></div></div></div>"
      ],
      "text/plain": [
       " -(H[1] s[1]) - H[2] s[2] - J[1, 2] s[1] s[2]\n",
       "E\n",
       "---------------------------------------------\n",
       "     -H[1]    -H[2]    -H[1] - H[2] - J[1, 2]\n",
       "1 + E      + E      + E\n",
       "                          2                                            2\n",
       "  -(H[1] s[1]) - L[1] s[1]  - H[2] s[2] - J[1, 2] s[1] s[2] - L[2] s[2]\n",
       " E\n",
       "-------------------------------------------------------------------------\n",
       "     -H[1] - L[1]    -H[2] - L[2]    -H[1] - H[2] - J[1, 2] - L[1] - L[2]\n",
       "1 + E             + E             + E"
      ]
     },
     "execution_count": 12,
     "metadata": {
      "text/html": [],
      "text/plain": []
     },
     "output_type": "execute_result"
    }
   ],
   "source": [
    "p = Exp[-Hamiltonian]/Z "
   ]
  },
  {
   "cell_type": "markdown",
   "id": "0b849d44",
   "metadata": {},
   "source": [
    "We can evaluate this expression at a particular configuration as follows (assuming we have 2 neurons):"
   ]
  },
  {
   "cell_type": "code",
   "execution_count": 14,
   "id": "68322e6a",
   "metadata": {},
   "outputs": [
    {
     "data": {
      "text/html": [
       "<style>\n",
       "\t\t\t\t\t\t\t\t\t\t\t\t\t.grid-container {\n",
       "\t\t\t\t\t\t\t\t\t\t\t\t\t\tdisplay: inline-grid;\n",
       "\t\t\t\t\t\t\t\t\t\t\t\t\t\tgrid-template-columns: auto;\n",
       "\t\t\t\t\t\t\t\t\t\t\t\t\t}\n",
       "\t\t\t\t\t\t\t\t\t\t\t\t</style>\n",
       "\n",
       "\t\t\t\t\t\t\t\t\t\t\t\t<div><div class=\"grid-container\"><div class=\"grid-item\"><img alt=\"Output\" src=\"data:image/png;base64,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\"></div><div class=\"grid-item\"><img alt=\"Output\" src=\"data:image/png;base64,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\"></div></div></div>"
      ],
      "text/plain": [
       "             2 (H[1] + J[1, 2])\n",
       "            E\n",
       "-------------------------------------------\n",
       "     J[1, 2]   H[1]    H[2]    H[1] + H[2]\n",
       "1 + E        (E     + E     + E           )\n",
       "                          2 (H[1] + J[1, 2])\n",
       "                         E\n",
       "----------------------------------------------------------------------\n",
       "     H[1] + J[1, 2] + L[1]    H[2] + J[1, 2] + L[2]       H[1] + L[1]\n",
       "1 + E                      + E                      (1 + E           )"
      ]
     },
     "execution_count": 14,
     "metadata": {
      "text/html": [],
      "text/plain": []
     },
     "output_type": "execute_result"
    }
   ],
   "source": [
    "p /. {s[1]-> -1, s[2]->1} //FullSimplify"
   ]
  },
  {
   "cell_type": "markdown",
   "id": "3df36e9a",
   "metadata": {},
   "source": [
    "### Compute the expectations and correlations\n",
    "When we represent the neuron states as `{-1,1}`, the auto-correlations are 1 since we either have `1*1` times a probability, or `-1*-1=1` times a probability, and all the probabilities sum to 1. On the other hand, when we represent the neuron states as `{0,1}`, the auto-correlations are equal to the expectations since the product of a neuron with itself takes on the same values as just the neuron by itself.   "
   ]
  },
  {
   "cell_type": "code",
   "execution_count": 16,
   "id": "1a262805",
   "metadata": {},
   "outputs": [
    {
     "data": {
      "text/html": [
       "<style>\n",
       "\t\t\t\t\t\t\t\t\t\t\t\t\t.grid-container {\n",
       "\t\t\t\t\t\t\t\t\t\t\t\t\t\tdisplay: inline-grid;\n",
       "\t\t\t\t\t\t\t\t\t\t\t\t\t\tgrid-template-columns: auto;\n",
       "\t\t\t\t\t\t\t\t\t\t\t\t\t}\n",
       "\t\t\t\t\t\t\t\t\t\t\t\t</style>\n",
       "\n",
       "\t\t\t\t\t\t\t\t\t\t\t\t<div><div class=\"grid-container\"><div class=\"grid-item\"><img alt=\"Output\" src=\"data:image/png;base64,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\"></div><div class=\"grid-item\"><img alt=\"Output\" src=\"data:image/png;base64,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\"></div></div></div>"
      ],
      "text/plain": [
       "                1                                1\n",
       "{-------------------------------, -------------------------------}\n",
       "      H[1] + J[1, 2]       H[2]        H[2] + J[1, 2]       H[1]\n",
       "     E               (1 + E    )      E               (1 + E    )\n",
       " 1 + ---------------------------  1 + ---------------------------\n",
       "              H[2] + J[1, 2]                   H[1] + J[1, 2]\n",
       "         1 + E                            1 + E\n",
       "                       1\n",
       "{---------------------------------------------, \n",
       "      H[1] + J[1, 2] + L[1]       H[2] + L[2]\n",
       "     E                      (1 + E           )\n",
       " 1 + -----------------------------------------\n",
       "                 H[2] + J[1, 2] + L[2]\n",
       "            1 + E\n",
       " \n",
       "                          1\n",
       ">   ---------------------------------------------}\n",
       "         H[2] + J[1, 2] + L[2]       H[1] + L[1]\n",
       "        E                      (1 + E           )\n",
       "    1 + -----------------------------------------\n",
       "                    H[1] + J[1, 2] + L[1]\n",
       "               1 + E"
      ]
     },
     "execution_count": 16,
     "metadata": {
      "text/html": [],
      "text/plain": []
     },
     "output_type": "execute_result"
    }
   ],
   "source": [
    "Averages = Table[ Total[s[i] p /. reps] // ExpToTrig // FullSimplify, {i,NN} ]"
   ]
  },
  {
   "cell_type": "markdown",
   "id": "5299f869",
   "metadata": {},
   "source": [
    "Note, we only work out the upper triangle of the correlation matrix. (Could I even leave out the diagonal?)"
   ]
  },
  {
   "cell_type": "code",
   "execution_count": 18,
   "id": "5789ed36",
   "metadata": {},
   "outputs": [
    {
     "data": {
      "text/html": [
       "<style>\n",
       "\t\t\t\t\t\t\t\t\t\t\t\t\t.grid-container {\n",
       "\t\t\t\t\t\t\t\t\t\t\t\t\t\tdisplay: inline-grid;\n",
       "\t\t\t\t\t\t\t\t\t\t\t\t\t\tgrid-template-columns: auto;\n",
       "\t\t\t\t\t\t\t\t\t\t\t\t\t}\n",
       "\t\t\t\t\t\t\t\t\t\t\t\t</style>\n",
       "\n",
       "\t\t\t\t\t\t\t\t\t\t\t\t<div><div class=\"grid-container\"><div class=\"grid-item\"><img alt=\"Output\" src=\"data:image/png;base64,iVBORw0KGgoAAAANSUhEUgAAAVsAAABYCAIAAADUTsOgAAAAznpUWHRSYXcgcHJvZmlsZSB0eXBlIGV4aWYAAHjadU9BDsMgDLvzij2BJODAc2hLpf1gz18CVFOnzVJjxzipEvrreYaHgymGlLWgAtGQaqrcTJQ4MZliHXUgb0vR3Q95DVEzK38e0Je/3X3FZC5fiyJPIf4H05LWwFokPH1qs99WnlspPxddSNdZ9KcXZWSQJquJoyqq6RJMGiFzzIoTO2BBwsEx7cYdqjYG9YQ0H3Rw13u6B4gZh58g/pE0Yx3VrrI+m2aps/I2Uv7q57wBZOVaysN94KkAAAAJcEhZcwAACxMAAAsTAQCanBgAAAA8dEVYdFNvZnR3YXJlAENyZWF0ZWQgd2l0aCB0aGUgV29sZnJhbSBMYW5ndWFnZSA6IHd3dy53b2xmcmFtLmNvbVyipoUAAAAhdEVYdENyZWF0aW9uIFRpbWUAMjAyMTowNzowMyAxNToyOToyOY+D77oAAA6cSURBVHic7d19TBvlHwDwpxToBjgLDYXRIazrgE7YJjAjIhrZlnVT/yEm+DLcX2RBM41MJQbjkGGmicbRJYIh0+jYMkkwEiNvkxc1mBCD4uTFF4qsAZNCWcf72Nbe74/7ebu+3+tz1/L9/LFw17t7vs/19u31evd9EBHWzpw5o9Ppzp8/L3UgAB940/mIRGGtsrJyfX1d6igAVvCm8xHhPctisczPz+MPRQzR0dFRUVFSRwGwgjedoZGRkZs3b3rM9JERWltbNRoNlpAAAJLR6/Vff/21x0zPjDA8PPzggw/iCgkAIJmYmJi1tbXV1VX6TAVBEPTpurq66upqhUKBNzZRzMzMHDt2bGpqKjo62mg0tra2Sh0REB286azYbLaBgYGSkhJqjo8ri+GRDhBCOp3uu+++kzoKgBW86awkJSVZLBb6HLdvDdPT0zqdDm9IAAApra2t0SfdMsIff/yxfft2vPEAAKSkUqmWlpaoSbdvDTMzM/4uK87Pzzc1NYkbGvBSXl7O8HefgYGBH3/8Uex4QIgqKioqLCz0+ZJWq/33338zMzPJSbeM4HA4tmzZ4nM1jUZTVVUlbJQgKObXdAoLCx9++GFRgwGhK8CBtGXLFofDQU26ZYTV1dVNmzZx2GhQBEGQq1N/cOZ0OsnfR5RKpagXQScmJlwuV0ZGBqu1ePa0vb39yJEjbNcicd4b2Hbp5OSkxWI5ePCgz1cFPEj8Ca0meG6qoaGhoqIi6GIqlYp+KcHtOsKdO3eUSiXbhoNqaWl56623EEJWq/XAgQPkzObm5oaGBpfLhRC6dOnS/v37+/r6yJf6+vrefPNNf1t76aWXnnrqqQceeODdd98Nuim6mZmZsrKyQ4cOlZSUkDdlBm6ou7s7LS1NwJ4yCeDPP/9k1aIgsO3Srq6ugoICny8Je5BwaIJtX8TuBf9ob926devWraAxR0ZG3r59m5p0ywgul0uMxOkzw9nt9oqKioiICITQc889l5eXt7y8TL70+OOPJyUl+dtaY2NjR0dHVVUVdSdFgE3RpaSkfP75511dXXv37m1rawva0PLyskqlErCnTAIwGAzj4+OsGuUP2y51OBxxcXE+XxL2IOHQBNu+iN0L/tEWFhb29/cHjVmhcLspycddzGL45JNP7r///uLiYm6rf/rpp/xjUCgUERERBEH09vb6u8pCsdvtarWaQysBesokgOLi4u7ubg7tSoLVLl1YWIiNjQ2wAM+DhAme7w7PJpigH+o8o83Ly/v555/ZBoApIxw/fnx0dLS3t5ftimtra/39/UNDQ/39/fRbKchzMA7eeeedgoIC6sqqPyMjI7t27SL/DnDa7C1oTwMHEBsby+e5vffee2/btm3cEqjYu3RycjLwb9ucDxLmeL47gjThj/ehzjNahULB4ZRfrIxA/2bCh1KpTEhIiImJIf9dWloaGBhACI2OjjL8DK+vr6e+nJvN5rGxMerbcgCzs7OJiYnk3wFOm0nMO8skAKfTyXBr3iorK8vLy4Mudv36dSrvYNulNpuN2qXeYYiEVRPM+8K5iQA8DvWgyzOJlkOWFyUj1NTU5OXlffjhhx6/kPvMWFar9fDhwy0tLTU1NS+//LLHq9HR0bt37967d+/u3bu3bt26trb2xhtvPProo21tbU8//XTQTREEYTabGxsbEULt7e2vvPLK7OzsgQMHKisrA3fBZrNptVp/r9I/hH121mdPGQbAJyP4fBD47Nmz9MmqqqpHHnmkoaHhyy+/RAhh26Wzs7P0XeoRBoXDQcKwp4GbYNgXPk2wOtQFiZbDsSR8xZSrV69OTk5WVFQYjcaLFy8WFRWVlpaWlpYihFJTU3t6ejyWv++++zo6OgJv8/nnnyf/0Gq1AwMDDocjPj7eezHvTSkUiqqqqsjISITQkSNHPB7rCsDhcPj8wFxbWxscHBwaGtLr9ampqSsrK/TONjY2BugpwwA4n717W11dvXLlyvDwcFtbm06ny8/P/+2332w227PPPrt9+/ZLly6VlpZi26X00y7vMHgeJEx6GriJoH3h3wSrQ51ntCSyLBKr7w7CnyOsrq4SBJGcnLx169YANzUlJiZSP8l46Ovrm5ubC9CEx7EbYFMWi2VoaOiZZ57xuZ3ADfncjx6ndkw6y7anzP+PBaVSqXJyclJSUnJyclJTU8mNu1yurKys/Pz8jz76iFoSwy5VKpXUBv2F4YH5rmPeUzk3ERSHY4n1pQR6ibVTp07duHGDf6m2kydP7tu379y5c/X19fy3Jgmz2exwOAiCuHbtmslkSktLy83NPXHiBPlqc3MztaTgna2treW24vT09P79+3fs2GE0GktKSqj5X3zxBX2x6urq7Oxss9lcU1Pjcrl4xcrGhQsX/vrrL1HDwNBTmexMht5+++2gy3R2dnZ2dlKTomQEgiCWlpaWlpYE2ZQkLl++TD98AxO2s6dPnxZqU/6srKyQ+Q6nrq6un376CXMY4dEEZzU1NUGX8cgIYlVe9XcjSqjQarVzc3M7d+5ksrCwncVQnyImJobJ1WxhabVaq9WKOYzwaIIzGf36GOr27NkzOjqKv93FxUVud0bJX2ZmpkdxDiCq27dvs73pFkFG8CchIWFhYQF/uz09PYcOHcLfLgabN2+Gouk4DQwMPPbYY2zXYpcR+NwSF3Li4uK8a1eLbWpqymAwYG4Um6SkpOvXr0sdxUbxyy+/cKiizC4jMLwlLjyYTKbp6WnMjWZnZ2NuEafDhw///vvvUkexUeh0OvLxKlbYrcDklriwkZ6ejv/j2l/tgPCQnJzM4TwWcEPe4MQWr98avO/iQgg5nU6hHmrYyKKiosSoVQFAYLwyAnkX1+DgYE5ODvWgq8VikaTsR5jJzMxkW74JAP5YZAT62Bjffvtta2urUqnU6/VGo1Gv11OLZWRkYDuUiRAs1gaAnLG4jkCOjTExMTE2NkYfKqesrEyEwIITtkgWtspiAMhZCN+P4PO8gHORLGyVxQCQsxDOCIh32Sn8xdoAkDnZZQQ8JcykKtYGgMzJLiPgKWEmVbE2AGROdhnBmxglzKQq1gaAzIn1NLQgxC5hhr9YGwAyJ+tzBAwlzOjwFGsDQM7chnOpqal59dVX7733XqmisVqtx48fHx8f12g0hYWFZrMZIXTx4kXqw/y111774YcfXnjhBZfLFaAmLwCAoa6uLoQQ9Qy+vL41+CxWS6UDhNAHH3xAXnQM9RpNAMiTvDICE5ALABCPrK8jAAAwg4wAALgLMgIA4C7ICCDcbKhqoIILvSuLAARWWVkJRZ85g3MEEG58VgMFDIVzRnA6ndXV1VlZWbm5uefPn5c6HABCQDh/a6irq/vqq68+++wzu91+7Nix5OTkJ554QuqgAJC1cM4IDQ0NjY2NBQUFCKEXX3zx448/howQ9ryrgUodUYgJ24ywuLhos9keeuihCxcupKamFhQUtLS0SB0UEB1ZDVTqKEJY2F5HsNvtCKH4+PjXX3/9zJkz8fHx8DwiAEGF7TlCQkICQmhhYaG5uVmr1c7MzGg0GqmDAkDuwjYjqNVqtVr966+/ko95fvPNN+np6VIHFWLm5+ebmpqkjmLDKS8vl/DTK2wzAkLo6NGjdXV1RUVF8/PzjY2Np0+fljqiEKPRaPxVpgHikXYAobC9joAQqq2tjYqKSkxM3Llzp8lkOnr0qNQRhR4FV9S6fDZCcrlcTqfT6XTy31RQFovl77//ZrsWz852dHR4bE1C4ZwR4uPje3t7rVar3W5vamoiyyICDEJ3uK3u7u60tDQBO+sdoXcMshonNZwzAkmj0UCRFcxCd7it5eVllUolYGe9I/SOwWAwjI+Ps2pUPOGfEYAkQnG4LbvdznC0Dg8BOstEcXFxd3c3t3UFBxkBiCIUh9saGRnZtWsX+bewY4sFFhsbK5+HNSEjAMGE+nBbs7OziYmJ5N8Cji3GBHndVA4gIwBhhMFwWzabTavV+nuV29hi3hH6JJ+MAJffgQCuXr0aBsNtORwOn6chfMYW8znggDfO34kEB+cIQABhM9yWz895DGOLyWigQILm1KlTN27cIABg7+TJk/v27Tt37lx9fb3UsXBkNpsdDgdBENeuXTOZTGlpabm5uSdOnCBfbW5uppYUvLO1tbWCbIeDzs7Ozs5OahK+NQBhhMFwW1qtdm5uTq1W4x9bTPJbFSnwrQEIJi4uLnTTAfovIzBcWNjOQkYAQHb27NkzOjqKv93FxUVud0aJATICAP+XkJCwsLCAv92enh5qaGbJQUYAQWyoAVHi4uJu3ryJudGpqSmDwYC5UX/gyiIIYkMNiGIymaanpzH//8zOzsbZXGBwjgCC8DkgytmzZyUJRmzp6en4P64PHjyIucUA4BwBsLO6unrlypXh4eG2tjadTpefn48Qcjqdwt7nvzFFRUUplUppY4CMANhRqVQ5OTmDg4M5OTmxsbHkTIvFIquyHyEqMzMzIyND2hjcMgL5MLlUoQAZ8h4QRalU6vV6o9Go1+upxTIyMrAdysR/FUoIX6VKWHE6neQBr1Qq5XNHAGYEQZCVXUhu1xEiIyPl8wwWkANyQJSJiYmxsTH6+EhlZWWSxMO/hBkdznptsnXnzh36dSK3jBATE4P/pxcAmPN5XsCqhBkdznptsrW+vr5582Zq0i0jxMfHLy4uYg8JABZ4ljCTpF6bnC0uLtIfLXXLCDqdzmazYQ8JbHR4SphJWK9NzmZnZ1NSUqhJt4yQlZX1zz//YA8JbHR4SphJWK9NztbX1++55x5q0i0jbNu2bXp6GntIAHgSo4SZhPXa5Ix+EQF534+gUCj4/6gDAGdilzCTpF6bbNlsth07dtDneN7F/OSTT37//fcYQwLADYYSZnTY6rXJU3t7u8lkcpvlXWXp/fffF7mOEwB34S9hBkgrKyuXL1/2mKkgvE5+LBaLWq2WcLxqADyEer02eRoZGTEYDJs2baLP9JERAAAbFjwNDQC4638mcLj/noIKogAAAABJRU5ErkJggg==\"></div><div class=\"grid-item\"><img alt=\"Output\" src=\"data:image/png;base64,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\"></div></div></div>"
      ],
      "text/plain": [
       "               1\n",
       "-------------------------------\n",
       "     H[1] + J[1, 2]       H[2]\n",
       "    E               (1 + E    )                                    1\n",
       "1 + ---------------------------               -------------------------------------------\n",
       "             H[2] + J[1, 2]                        J[1, 2]   H[1]    H[2]    H[1] + H[2]\n",
       "        1 + E                                 1 + E        (E     + E     + E           )\n",
       "\n",
       "                                                             1\n",
       "                                              -------------------------------\n",
       "                                                   H[2] + J[1, 2]       H[1]\n",
       "                                                  E               (1 + E    )\n",
       "                                              1 + ---------------------------\n",
       "                                                           H[1] + J[1, 2]\n",
       "0                                                     1 + E\n",
       "                      1\n",
       "---------------------------------------------\n",
       "     H[1] + J[1, 2] + L[1]       H[2] + L[2]\n",
       "    E                      (1 + E           )\n",
       "1 + -----------------------------------------\n",
       "                H[2] + J[1, 2] + L[2]\n",
       "           1 + E\n",
       " \n",
       "\n",
       "\n",
       "\n",
       "                                       1\n",
       "     ----------------------------------------------------------------------\n",
       "          H[1] + J[1, 2] + L[1]    H[2] + J[1, 2] + L[2]       H[1] + L[1]\n",
       ">    1 + E                      + E                      (1 + E           )\n",
       "\n",
       "\n",
       "\n",
       "\n",
       "\n",
       "\n",
       "\n",
       "0\n",
       " \n",
       "                           1\n",
       "     ---------------------------------------------\n",
       "          H[2] + J[1, 2] + L[2]       H[1] + L[1]\n",
       "         E                      (1 + E           )\n",
       "     1 + -----------------------------------------\n",
       "                     H[1] + J[1, 2] + L[1]\n",
       ">               1 + E"
      ]
     },
     "execution_count": 18,
     "metadata": {
      "text/html": [],
      "text/plain": []
     },
     "output_type": "execute_result"
    }
   ],
   "source": [
    "(CorrMatrix = \n",
    "  Table[Total[s[i] s[j] p /. reps] // ExpToTrig // FullSimplify, {i, \n",
    "    NN}, {j, i, NN}]) // PadLeft // MatrixForm "
   ]
  },
  {
   "cell_type": "markdown",
   "id": "aa5c64e3",
   "metadata": {},
   "source": [
    "## Solve for `H` and `J` given observed expectations and correlations\n",
    "\n",
    "Let us say that we observe the expectations of 2 neurons, as well as their correlation. Can we find the `H` and `J` that gives us an Ising model that reproduces these statistics?"
   ]
  },
  {
   "cell_type": "markdown",
   "id": "ec4a5663",
   "metadata": {},
   "source": [
    "If we try analytically for expected values `a[1]` and `a[2]`, and correlation `b`, we obtain:"
   ]
  },
  {
   "cell_type": "code",
   "execution_count": 20,
   "id": "ac988a13",
   "metadata": {},
   "outputs": [
    {
     "data": {
      "text/html": [
       "<div><img alt=\"Output\" src=\"data:image/png;base64,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\"></div>"
      ],
      "text/plain": [
       "                                        -1. b + a[1]\n",
       "{{H[1] -> ConditionalExpression[-1. Log[------------] + \n",
       "                                             b\n",
       " \n",
       "               1. + b - 1. a[1] - 1. a[2]\n",
       ">       1. Log[--------------------------], \n",
       "                           b\n",
       " \n",
       ">      0 < b < 1. && b < a[1] < 1. && b < a[2] < 1. + b - 1. a[1]], \n",
       " \n",
       "                                          1. + b - 1. a[1] - 1. a[2]\n",
       ">    H[2] -> ConditionalExpression[1. Log[--------------------------] - \n",
       "                                                      b\n",
       " \n",
       "               -1. b + a[2]\n",
       ">       1. Log[------------], 0 < b < 1. && b < a[1] < 1. && b < a[2] < 1. + b - 1. a[1]]\n",
       "                    b\n",
       " \n",
       ">     , J[1, 2] -> \n",
       " \n",
       "                                   -1. b + a[1]           1. + b - 1. a[1] - 1. a[2]\n",
       ">     ConditionalExpression[1. Log[------------] - 1. Log[--------------------------] + \n",
       "                                        b                             b\n",
       " \n",
       "               -1. b + a[2]\n",
       ">       1. Log[------------], 0 < b < 1. && b < a[1] < 1. && b < a[2] < 1. + b - 1. a[1]]\n",
       "                    b\n",
       " \n",
       ">     }}"
      ]
     },
     "execution_count": 20,
     "metadata": {
      "text/html": [],
      "text/plain": []
     },
     "output_type": "execute_result"
    }
   ],
   "source": [
    "g = NSolve[{Averages[[1]]==a[1], Averages[[2]]==a[2], CorrMatrix[[1,2]]==b}, {H[1], H[2], J[1,2]}, Reals] "
   ]
  },
  {
   "cell_type": "markdown",
   "id": "55f93b98",
   "metadata": {},
   "source": [
    "On the other hand, we can find values for `H` and `J` numerically. Let us say neuron 1 has an expected value of 0.1, neuron 2 has an expected value of 0.9 and their correlation is 0.05 (every time neuron 1 fires, neuron 2 also fires half the time)"
   ]
  },
  {
   "cell_type": "code",
   "execution_count": 49,
   "id": "6c7aaa07",
   "metadata": {},
   "outputs": [
    {
     "data": {
      "text/html": [
       "<div><img alt=\"Output\" src=\"data:image/png;base64,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\"></div>"
      ],
      "text/plain": [
       "                    -16\n",
       "{{H[1] -> 8.88178 10   , H[2] -> -2.83321, J[1, 2] -> 2.83321}}"
      ]
     },
     "execution_count": 49,
     "metadata": {
      "text/html": [],
      "text/plain": []
     },
     "output_type": "execute_result"
    }
   ],
   "source": [
    "gNum = g /. {a[1]->0.1, a[2]->0.9, b->0.05} "
   ]
  },
  {
   "cell_type": "markdown",
   "id": "b45dc5dd",
   "metadata": {},
   "source": [
    "## Checking the model reproduces the correct moments\n",
    "We now plug in `H` and `J` and check expectations and correlations are reproduced. "
   ]
  },
  {
   "cell_type": "markdown",
   "id": "fef8b790",
   "metadata": {},
   "source": [
    "First, we check the averages, we should be 0.1 and 0.9. "
   ]
  },
  {
   "cell_type": "code",
   "execution_count": 50,
   "id": "1ec47475",
   "metadata": {},
   "outputs": [
    {
     "data": {
      "text/html": [
       "<div><pre style=\"&#102;&#111;&#110;&#116;&#45;&#102;&#97;&#109;&#105;&#108;&#121;&#58;&#32;&#34;&#67;&#111;&#117;&#114;&#105;&#101;&#114;&#32;&#78;&#101;&#119;&#34;&#44;&#67;&#111;&#117;&#114;&#105;&#101;&#114;&#44;&#109;&#111;&#110;&#111;&#115;&#112;&#97;&#99;&#101;&#59;\">&#123;&#123;&#48;&#46;&#49;&#125;&#44;&#32;&#123;&#48;&#46;&#57;&#125;&#125;</pre></div>"
      ],
      "text/plain": [
       "{{0.1}, {0.9}}"
      ]
     },
     "execution_count": 50,
     "metadata": {
      "text/html": [],
      "text/plain": []
     },
     "output_type": "execute_result"
    }
   ],
   "source": [
    "Table[ Total[s[i] p /. gNum /. reps], {i,NN} ]"
   ]
  },
  {
   "cell_type": "markdown",
   "id": "52f16fb5",
   "metadata": {},
   "source": [
    "Now, we check the correlations, we should be 0.05."
   ]
  },
  {
   "cell_type": "code",
   "execution_count": 51,
   "id": "88a0fe6f",
   "metadata": {},
   "outputs": [
    {
     "data": {
      "text/html": [
       "<div><pre style=\"&#102;&#111;&#110;&#116;&#45;&#102;&#97;&#109;&#105;&#108;&#121;&#58;&#32;&#34;&#67;&#111;&#117;&#114;&#105;&#101;&#114;&#32;&#78;&#101;&#119;&#34;&#44;&#67;&#111;&#117;&#114;&#105;&#101;&#114;&#44;&#109;&#111;&#110;&#111;&#115;&#112;&#97;&#99;&#101;&#59;\">&#123;&#48;&#46;&#48;&#53;&#125;</pre></div>"
      ],
      "text/plain": [
       "{0.05}"
      ]
     },
     "execution_count": 51,
     "metadata": {
      "text/html": [],
      "text/plain": []
     },
     "output_type": "execute_result"
    }
   ],
   "source": [
    "Total[s[1] s[2] p /. gNum /. reps]"
   ]
  },
  {
   "cell_type": "markdown",
   "id": "1e2a8ab1",
   "metadata": {},
   "source": [
    "Finally, the auto-correlations should be the same as the averages if we use the $s\\in\\{0,1\\}$ encoding, and should be 1 if we use the $s\\in\\{-1,1\\}$ encoding"
   ]
  },
  {
   "cell_type": "code",
   "execution_count": 52,
   "id": "a26bee56",
   "metadata": {},
   "outputs": [
    {
     "data": {
      "text/html": [
       "<style>\n",
       "\t\t\t\t\t\t\t\t\t\t\t\t\t.grid-container {\n",
       "\t\t\t\t\t\t\t\t\t\t\t\t\t\tdisplay: inline-grid;\n",
       "\t\t\t\t\t\t\t\t\t\t\t\t\t\tgrid-template-columns: auto;\n",
       "\t\t\t\t\t\t\t\t\t\t\t\t\t}\n",
       "\t\t\t\t\t\t\t\t\t\t\t\t</style>\n",
       "\n",
       "\t\t\t\t\t\t\t\t\t\t\t\t<div><div class=\"grid-container\"><div class=\"grid-item\"><pre style=\"&#102;&#111;&#110;&#116;&#45;&#102;&#97;&#109;&#105;&#108;&#121;&#58;&#32;&#34;&#67;&#111;&#117;&#114;&#105;&#101;&#114;&#32;&#78;&#101;&#119;&#34;&#44;&#67;&#111;&#117;&#114;&#105;&#101;&#114;&#44;&#109;&#111;&#110;&#111;&#115;&#112;&#97;&#99;&#101;&#59;\">&#123;&#48;&#46;&#49;&#125;</pre></div><div class=\"grid-item\"><pre style=\"&#102;&#111;&#110;&#116;&#45;&#102;&#97;&#109;&#105;&#108;&#121;&#58;&#32;&#34;&#67;&#111;&#117;&#114;&#105;&#101;&#114;&#32;&#78;&#101;&#119;&#34;&#44;&#67;&#111;&#117;&#114;&#105;&#101;&#114;&#44;&#109;&#111;&#110;&#111;&#115;&#112;&#97;&#99;&#101;&#59;\">&#123;&#48;&#46;&#57;&#125;</pre></div></div></div>"
      ],
      "text/plain": [
       "{0.1}\n",
       "{0.9}"
      ]
     },
     "execution_count": 52,
     "metadata": {
      "text/html": [],
      "text/plain": []
     },
     "output_type": "execute_result"
    }
   ],
   "source": [
    "Total[s[1] s[1] p /. gNum /. reps]\n",
    "Total[s[2] s[2] p /. gNum /. reps]"
   ]
  }
 ],
 "metadata": {
  "kernelspec": {
   "display_name": "Wolfram Language 12.3",
   "language": "Wolfram Language",
   "name": "wolframlanguage12.3"
  },
  "language_info": {
   "codemirror_mode": "mathematica",
   "file_extension": ".m",
   "mimetype": "application/vnd.wolfram.m",
   "name": "Wolfram Language",
   "pygments_lexer": "mathematica",
   "version": "12.0"
  }
 },
 "nbformat": 4,
 "nbformat_minor": 5
}
