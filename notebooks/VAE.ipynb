{
 "cells": [
  {
   "cell_type": "markdown",
   "id": "bef29005",
   "metadata": {},
   "source": [
    "# Training a VAE on retinal ganglion cell data\n",
    "Can this generative model provide a lower dimensional description of the data?"
   ]
  },
  {
   "cell_type": "code",
   "execution_count": 1,
   "id": "6a5523ed",
   "metadata": {},
   "outputs": [],
   "source": [
    "import torch; torch.manual_seed(0)\n",
    "import torch.nn as nn\n",
    "import torch.nn.functional as F\n",
    "import torch.utils\n",
    "import torch.distributions\n",
    "import torchvision\n",
    "from tqdm import tqdm, trange\n",
    "import numpy as np\n",
    "import matplotlib.pyplot as plt; plt.rcParams['figure.dpi'] = 100"
   ]
  },
  {
   "cell_type": "markdown",
   "id": "3aba4b4d",
   "metadata": {},
   "source": [
    "## Prepare the data "
   ]
  },
  {
   "cell_type": "code",
   "execution_count": 2,
   "id": "da33cf7a",
   "metadata": {},
   "outputs": [],
   "source": [
    "device = 'cuda' if torch.cuda.is_available() else 'cpu'"
   ]
  },
  {
   "cell_type": "code",
   "execution_count": 3,
   "id": "92bc8925",
   "metadata": {},
   "outputs": [],
   "source": [
    "raw_data = np.loadtxt(\"../data/shuffled_data/repeat_shuffle_train.csv\", delimiter=\",\", dtype=float)"
   ]
  },
  {
   "cell_type": "code",
   "execution_count": 4,
   "id": "92390e0d",
   "metadata": {},
   "outputs": [
    {
     "data": {
      "text/plain": [
       "(226814, 10)"
      ]
     },
     "execution_count": 4,
     "metadata": {},
     "output_type": "execute_result"
    }
   ],
   "source": [
    "NNs = 10\n",
    "data = raw_data.T[:,:NNs] # take first 40 neurons for now\n",
    "data.shape"
   ]
  },
  {
   "cell_type": "code",
   "execution_count": 5,
   "id": "9999a740",
   "metadata": {},
   "outputs": [],
   "source": [
    "# split into training and validation data\n",
    "np.random.seed(42)\n",
    "split = int(0.8 * data.shape[0])\n",
    "indices = np.arange(data.shape[0])\n",
    "np.random.shuffle(indices)\n",
    "train_data = data[indices[:split]]\n",
    "val_data = data[indices[split:]]"
   ]
  },
  {
   "cell_type": "code",
   "execution_count": 6,
   "id": "9749d50e",
   "metadata": {},
   "outputs": [],
   "source": [
    "BATCH_SIZE = 32\n",
    "train_data_loader = torch.utils.data.DataLoader(\n",
    "    train_data,\n",
    "    batch_size=BATCH_SIZE,\n",
    "    shuffle=True)"
   ]
  },
  {
   "cell_type": "markdown",
   "id": "af732f2a",
   "metadata": {},
   "source": [
    "## Make model"
   ]
  },
  {
   "cell_type": "code",
   "execution_count": 62,
   "id": "e475f03d",
   "metadata": {},
   "outputs": [],
   "source": [
    "class VariationalEncoder(nn.Module):\n",
    "    def __init__(self, \n",
    "                 layer_dims : \"list of at least 2 ints specifying input dims for each layer, e.g. [160,10,2]\"):\n",
    "        super(VariationalEncoder, self).__init__()\n",
    "        \n",
    "        self.layers = nn.ModuleList([])\n",
    "        \n",
    "        for i in range(1,len(layer_dims)-1):\n",
    "            self.layers.append(nn.Linear(layer_dims[i-1], layer_dims[i],dtype=torch.float64))\n",
    "        # append final latent layers \n",
    "        self.layers.append(nn.Linear(layer_dims[i], layer_dims[-1],dtype=torch.float64))\n",
    "        self.layers.append(nn.Linear(layer_dims[i], layer_dims[-1],dtype=torch.float64))\n",
    "        \n",
    "        self.N = torch.distributions.Normal(0, 1)\n",
    "#         self.N.loc = self.N.loc.cuda() # hack to get sampling on the GPU\n",
    "#         self.N.scale = self.N.scale.cuda()\n",
    "        self.kl = 0\n",
    "    \n",
    "    def forward(self, x):\n",
    "        for layer in self.layers[:-2]: # encode\n",
    "            x = F.relu(layer(x))\n",
    "        # apply some noise to encoding\n",
    "        mu =  self.layers[-2](x)\n",
    "        sigma = torch.exp(self.layers[-1](x))\n",
    "        z = mu + sigma*self.N.sample(mu.shape)\n",
    "        self.kl = (sigma**2 + mu**2 - torch.log(sigma) - 1/2).sum()\n",
    "        return z"
   ]
  },
  {
   "cell_type": "code",
   "execution_count": 8,
   "id": "47d1d925",
   "metadata": {},
   "outputs": [],
   "source": [
    "encoder = VariationalEncoder([NNs,4,1])"
   ]
  },
  {
   "cell_type": "code",
   "execution_count": 9,
   "id": "b7b54f55",
   "metadata": {
    "collapsed": true
   },
   "outputs": [
    {
     "data": {
      "text/plain": [
       "tensor([[ 0.2114],\n",
       "        [-3.2621],\n",
       "        [ 0.4402],\n",
       "        [ 0.5012],\n",
       "        [ 2.0630],\n",
       "        [ 1.0884],\n",
       "        [-0.8898],\n",
       "        [ 0.4664],\n",
       "        [-0.3883],\n",
       "        [-0.1724],\n",
       "        [ 3.5665],\n",
       "        [-0.0765],\n",
       "        [ 0.7486],\n",
       "        [ 2.4108],\n",
       "        [ 2.0017],\n",
       "        [ 2.7288],\n",
       "        [-0.8299],\n",
       "        [-0.1021],\n",
       "        [-0.6302],\n",
       "        [ 1.4409],\n",
       "        [ 1.5111],\n",
       "        [ 1.2862],\n",
       "        [ 3.6117],\n",
       "        [-1.1118],\n",
       "        [ 0.4332],\n",
       "        [ 0.7369],\n",
       "        [-0.3765],\n",
       "        [-1.3952],\n",
       "        [ 0.3944],\n",
       "        [-1.0655],\n",
       "        [ 0.0644],\n",
       "        [ 0.9397]], dtype=torch.float64, grad_fn=<AddBackward0>)"
      ]
     },
     "execution_count": 9,
     "metadata": {},
     "output_type": "execute_result"
    }
   ],
   "source": [
    "encoded_batch = encoder(next(iter(train_data_loader)))\n",
    "encoded_batch"
   ]
  },
  {
   "cell_type": "code",
   "execution_count": 68,
   "id": "4b8807dd",
   "metadata": {},
   "outputs": [],
   "source": [
    "a = [1,2,3]"
   ]
  },
  {
   "cell_type": "code",
   "execution_count": 70,
   "id": "f93d0e9c",
   "metadata": {},
   "outputs": [
    {
     "name": "stdout",
     "output_type": "stream",
     "text": [
      "1\n",
      "2\n"
     ]
    }
   ],
   "source": [
    "for i in a[:-1]:\n",
    "    print(i)"
   ]
  },
  {
   "cell_type": "code",
   "execution_count": 75,
   "id": "3cd39c3b",
   "metadata": {},
   "outputs": [],
   "source": [
    "class Decoder(nn.Module):\n",
    "    def __init__(self, \n",
    "                layer_dims : \"list of at least 2 ints specifying input dims for each layer, e.g. [2,4,160]\"):\n",
    "        super(Decoder, self).__init__()\n",
    "        \n",
    "        self.layers = nn.ModuleList([])\n",
    "        for i in range(1,len(layer_dims)):\n",
    "            self.layers.append(nn.Linear(layer_dims[i-1], layer_dims[i], dtype=torch.float64))\n",
    "        \n",
    "    def forward(self, z):\n",
    "        for layer in self.layers[:-1]: # decode\n",
    "            z = F.relu(layer(z))\n",
    "        z = self.layers[-1](z) # don't apply activation on last layer\n",
    "#         z = torch.sigmoid(z) #squish\n",
    "#         z = torch.round(z) #round off\n",
    "        return z"
   ]
  },
  {
   "cell_type": "code",
   "execution_count": 76,
   "id": "94c7d7f0",
   "metadata": {},
   "outputs": [
    {
     "data": {
      "text/plain": [
       "tensor([[ 2.9561e-01, -9.1603e-01, -4.9529e-01, -3.7042e-01,  6.1764e-01,\n",
       "         -3.2092e-01, -2.6732e-02,  1.7808e-01,  1.2677e-01, -1.9862e-01],\n",
       "        [ 1.3919e+00, -1.7873e+00, -1.8778e+00, -1.8122e+00,  1.6257e+00,\n",
       "         -1.1787e+00, -1.3959e+00, -8.8523e-01, -3.6893e-02, -1.7343e+00],\n",
       "        [ 2.7852e-01, -8.8856e-01, -4.8718e-01, -3.5396e-01,  6.0173e-01,\n",
       "         -2.9722e-01, -1.2877e-03,  1.9200e-01,  1.4783e-01, -1.7319e-01],\n",
       "        [ 2.7397e-01, -8.8123e-01, -4.8501e-01, -3.4957e-01,  5.9749e-01,\n",
       "         -2.9090e-01,  5.5003e-03,  1.9571e-01,  1.5345e-01, -1.6640e-01],\n",
       "        [ 1.5730e-01, -6.9361e-01, -4.2962e-01, -2.3719e-01,  4.8886e-01,\n",
       "         -1.2905e-01,  1.7926e-01,  2.9076e-01,  2.9727e-01,  7.3034e-03],\n",
       "        [ 2.3011e-01, -8.1069e-01, -4.6419e-01, -3.0732e-01,  5.5665e-01,\n",
       "         -2.3005e-01,  7.0830e-02,  2.3145e-01,  2.0752e-01, -1.0109e-01],\n",
       "        [ 5.5755e-01, -1.1217e+00, -7.1804e-01, -6.0340e-01,  8.6372e-01,\n",
       "         -5.0686e-01, -3.5471e-01, -9.5946e-02, -4.1060e-02, -5.5332e-01],\n",
       "        [ 2.7657e-01, -8.8541e-01, -4.8625e-01, -3.5208e-01,  5.9991e-01,\n",
       "         -2.9451e-01,  1.6278e-03,  1.9359e-01,  1.5024e-01, -1.7027e-01],\n",
       "        [ 4.0298e-01, -1.0136e+00, -5.8053e-01, -4.6712e-01,  7.1838e-01,\n",
       "         -4.0809e-01, -1.6501e-01,  6.9487e-02,  4.8407e-02, -3.4620e-01],\n",
       "        [ 3.3643e-01, -9.6710e-01, -5.2132e-01, -4.0843e-01,  6.5580e-01,\n",
       "         -3.6555e-01, -8.3325e-02,  1.4073e-01,  8.6933e-02, -2.5701e-01],\n",
       "        [ 4.4998e-02, -5.1299e-01, -3.7630e-01, -1.2901e-01,  3.8428e-01,\n",
       "          2.6756e-02,  3.4653e-01,  3.8225e-01,  4.3572e-01,  1.7452e-01],\n",
       "        [ 3.1712e-01, -9.5062e-01, -5.0550e-01, -3.9114e-01,  6.3767e-01,\n",
       "         -3.5076e-01, -5.8767e-02,  1.6056e-01,  1.0025e-01, -2.3064e-01],\n",
       "        [ 2.5548e-01, -8.5150e-01, -4.7624e-01, -3.3177e-01,  5.8028e-01,\n",
       "         -2.6526e-01,  3.3032e-02,  2.1077e-01,  1.7623e-01, -1.3888e-01],\n",
       "        [ 1.3132e-01, -6.5183e-01, -4.1728e-01, -2.1217e-01,  4.6467e-01,\n",
       "         -9.3008e-02,  2.1796e-01,  3.1192e-01,  3.2929e-01,  4.5982e-02],\n",
       "        [ 1.6189e-01, -7.0098e-01, -4.3179e-01, -2.4161e-01,  4.9312e-01,\n",
       "         -1.3541e-01,  1.7244e-01,  2.8702e-01,  2.9162e-01,  4.7995e-04],\n",
       "        [ 1.0757e-01, -6.1363e-01, -4.0601e-01, -1.8929e-01,  4.4255e-01,\n",
       "         -6.0055e-02,  2.5333e-01,  3.3127e-01,  3.5858e-01,  8.1347e-02],\n",
       "        [ 5.3910e-01, -1.1088e+00, -7.0162e-01, -5.8713e-01,  8.4637e-01,\n",
       "         -4.9507e-01, -3.3206e-01, -7.6198e-02, -3.0381e-02, -5.2859e-01],\n",
       "        [ 3.1903e-01, -9.5371e-01, -5.0641e-01, -3.9298e-01,  6.3945e-01,\n",
       "         -3.5342e-01, -6.1621e-02,  1.5900e-01,  9.7891e-02, -2.3350e-01],\n",
       "        [ 4.7755e-01, -1.0658e+00, -6.4686e-01, -5.3286e-01,  7.8849e-01,\n",
       "         -4.5573e-01, -2.5652e-01, -1.0316e-02,  5.2488e-03, -4.4611e-01],\n",
       "        [ 2.0377e-01, -7.6834e-01, -4.5168e-01, -2.8196e-01,  5.3213e-01,\n",
       "         -1.9351e-01,  1.1005e-01,  2.5290e-01,  2.3998e-01, -6.1883e-02],\n",
       "        [ 1.9853e-01, -7.5991e-01, -4.4919e-01, -2.7691e-01,  5.2725e-01,\n",
       "         -1.8624e-01,  1.1786e-01,  2.5717e-01,  2.4644e-01, -5.4082e-02],\n",
       "        [ 2.1533e-01, -7.8693e-01, -4.5717e-01, -2.9309e-01,  5.4289e-01,\n",
       "         -2.0955e-01,  9.2839e-02,  2.4348e-01,  2.2574e-01, -7.9092e-02],\n",
       "        [ 4.1617e-02, -5.0756e-01, -3.7469e-01, -1.2576e-01,  3.8113e-01,\n",
       "          3.1446e-02,  3.5157e-01,  3.8501e-01,  4.3988e-01,  1.7955e-01],\n",
       "        [ 6.2597e-01, -1.1695e+00, -7.7890e-01, -6.6373e-01,  9.2806e-01,\n",
       "         -5.5058e-01, -4.3868e-01, -1.6918e-01, -8.0665e-02, -6.4500e-01],\n",
       "        [ 2.7904e-01, -8.8939e-01, -4.8742e-01, -3.5446e-01,  6.0221e-01,\n",
       "         -2.9794e-01, -2.0569e-03,  1.9158e-01,  1.4719e-01, -1.7395e-01],\n",
       "        [ 2.5636e-01, -8.5292e-01, -4.7665e-01, -3.3261e-01,  5.8110e-01,\n",
       "         -2.6647e-01,  3.1723e-02,  2.1005e-01,  1.7515e-01, -1.4019e-01],\n",
       "        [ 3.9936e-01, -1.0111e+00, -5.7730e-01, -4.6392e-01,  7.1497e-01,\n",
       "         -4.0577e-01, -1.6056e-01,  7.3371e-02,  5.0507e-02, -3.4134e-01],\n",
       "        [ 7.1333e-01, -1.2306e+00, -8.5662e-01, -7.4075e-01,  1.0102e+00,\n",
       "         -6.0641e-01, -5.4589e-01, -2.6267e-01, -1.3123e-01, -7.6206e-01],\n",
       "        [ 2.8194e-01, -8.9405e-01, -4.8880e-01, -3.5725e-01,  6.0491e-01,\n",
       "         -3.0196e-01, -6.3756e-03,  1.8921e-01,  1.4362e-01, -1.7827e-01],\n",
       "        [ 6.1170e-01, -1.1595e+00, -7.6620e-01, -6.5114e-01,  9.1464e-01,\n",
       "         -5.4146e-01, -4.2116e-01, -1.5390e-01, -7.2402e-02, -6.2587e-01],\n",
       "        [ 3.0659e-01, -9.3370e-01, -5.0050e-01, -3.8100e-01,  6.2787e-01,\n",
       "         -3.3616e-01, -4.3089e-02,  1.6913e-01,  1.1323e-01, -2.1497e-01],\n",
       "        [ 2.4121e-01, -8.2855e-01, -4.6946e-01, -3.1802e-01,  5.6699e-01,\n",
       "         -2.4546e-01,  5.4285e-02,  2.2240e-01,  1.9382e-01, -1.1763e-01]],\n",
       "       dtype=torch.float64, grad_fn=<AddmmBackward0>)"
      ]
     },
     "execution_count": 76,
     "metadata": {},
     "output_type": "execute_result"
    }
   ],
   "source": [
    "decoder = Decoder([1,4,10])\n",
    "decoded_batch = decoder(encoded_batch)\n",
    "decoded_batch"
   ]
  },
  {
   "cell_type": "code",
   "execution_count": 77,
   "id": "14ae0d81",
   "metadata": {},
   "outputs": [],
   "source": [
    "class VariationalAutoencoder(nn.Module):\n",
    "    def __init__(self, encoder_layer_dims, decoder_layer_dims):\n",
    "        super(VariationalAutoencoder, self).__init__()\n",
    "        self.encoder = VariationalEncoder(encoder_layer_dims)\n",
    "        self.decoder = Decoder(decoder_layer_dims)\n",
    "    \n",
    "    def forward(self, x):\n",
    "        z = self.encoder(x)\n",
    "        return self.decoder(z)"
   ]
  },
  {
   "cell_type": "code",
   "execution_count": 78,
   "id": "0cbe5afd",
   "metadata": {},
   "outputs": [],
   "source": [
    "def round_output(z):\n",
    "    return torch.round(torch.sigmoid(z))"
   ]
  },
  {
   "cell_type": "code",
   "execution_count": 79,
   "id": "61fb9d7f",
   "metadata": {},
   "outputs": [
    {
     "data": {
      "text/plain": [
       "tensor([[0., 1., 1., 1., 1., 1., 1., 0., 0., 1.],\n",
       "        [0., 1., 1., 1., 1., 1., 0., 1., 1., 1.],\n",
       "        [0., 1., 1., 1., 1., 1., 0., 1., 0., 1.],\n",
       "        [0., 1., 1., 1., 1., 1., 0., 1., 0., 1.],\n",
       "        [0., 1., 1., 1., 0., 0., 0., 1., 1., 1.],\n",
       "        [0., 1., 1., 1., 1., 1., 0., 1., 0., 1.],\n",
       "        [0., 1., 1., 0., 1., 0., 0., 1., 1., 1.],\n",
       "        [0., 1., 1., 1., 1., 1., 0., 1., 1., 1.],\n",
       "        [0., 1., 1., 1., 1., 1., 1., 1., 0., 1.],\n",
       "        [0., 1., 1., 1., 1., 1., 0., 1., 0., 1.],\n",
       "        [0., 1., 1., 1., 1., 1., 0., 1., 0., 1.],\n",
       "        [0., 1., 1., 1., 1., 1., 1., 0., 0., 1.],\n",
       "        [0., 1., 1., 1., 1., 1., 1., 1., 0., 1.],\n",
       "        [0., 1., 1., 0., 0., 0., 0., 1., 1., 1.],\n",
       "        [0., 1., 1., 1., 1., 1., 1., 0., 0., 1.],\n",
       "        [0., 1., 1., 1., 1., 1., 1., 1., 0., 1.],\n",
       "        [0., 1., 1., 1., 1., 1., 1., 0., 0., 1.],\n",
       "        [0., 1., 1., 0., 0., 0., 0., 1., 1., 1.],\n",
       "        [0., 1., 1., 1., 1., 1., 0., 1., 0., 1.],\n",
       "        [0., 1., 1., 1., 1., 1., 0., 1., 1., 1.],\n",
       "        [0., 1., 1., 1., 1., 1., 0., 1., 1., 1.],\n",
       "        [0., 1., 1., 1., 1., 1., 0., 1., 0., 1.],\n",
       "        [0., 1., 1., 1., 1., 1., 0., 1., 1., 1.],\n",
       "        [0., 1., 1., 1., 1., 1., 0., 1., 0., 1.],\n",
       "        [0., 1., 1., 1., 1., 1., 0., 1., 0., 1.],\n",
       "        [0., 1., 1., 1., 1., 1., 0., 1., 1., 1.],\n",
       "        [0., 1., 1., 0., 1., 1., 0., 1., 0., 1.],\n",
       "        [0., 1., 1., 1., 1., 1., 0., 1., 0., 1.],\n",
       "        [0., 1., 1., 1., 1., 0., 0., 1., 1., 1.],\n",
       "        [0., 1., 1., 1., 1., 1., 1., 0., 0., 1.],\n",
       "        [0., 1., 1., 1., 1., 1., 0., 1., 0., 1.],\n",
       "        [0., 1., 1., 1., 1., 1., 1., 0., 0., 1.]], dtype=torch.float64,\n",
       "       grad_fn=<RoundBackward0>)"
      ]
     },
     "execution_count": 79,
     "metadata": {},
     "output_type": "execute_result"
    }
   ],
   "source": [
    "vae = VariationalAutoencoder([NNs,4,2],[2,4,NNs])\n",
    "batch = next(iter(train_data_loader))\n",
    "reconstruction = vae(batch)\n",
    "round_output(reconstruction)"
   ]
  },
  {
   "cell_type": "markdown",
   "id": "3799e87a",
   "metadata": {},
   "source": [
    "## Define loss function"
   ]
  },
  {
   "cell_type": "code",
   "execution_count": null,
   "id": "d25a5827",
   "metadata": {},
   "outputs": [],
   "source": [
    "0.5 -0.5 0.5 0.5 \n",
    "-0.5 0.5 1 1 1 2\n",
    "\n",
    "1/"
   ]
  },
  {
   "cell_type": "code",
   "execution_count": null,
   "id": "8db85f43",
   "metadata": {},
   "outputs": [],
   "source": []
  },
  {
   "cell_type": "code",
   "execution_count": 17,
   "id": "ad2b6e96",
   "metadata": {},
   "outputs": [],
   "source": [
    "def dice(x_true, x_pred):\n",
    "    intersection = (x_true * x_pred).sum(1)\n",
    "    sum_ = (x_true + x_pred).sum(1)\n",
    "    return 2*intersection / sum_"
   ]
  },
  {
   "cell_type": "code",
   "execution_count": 18,
   "id": "07d76539",
   "metadata": {},
   "outputs": [],
   "source": [
    "def man_dist(x_true, x_pred):\n",
    "    intersection = (x_true * x_pred).sum(1)\n",
    "    sum_ = (x_true + x_pred).sum(1)\n",
    "    return (sum_ - intersection)"
   ]
  },
  {
   "cell_type": "code",
   "execution_count": 19,
   "id": "5c7a7891",
   "metadata": {},
   "outputs": [],
   "source": [
    "def expectation_distance(x_true, x_pred):\n",
    "    emp_avgs = x_true.mean(axis=0)\n",
    "    model_avgs = x_pred.mean(axis=0)\n",
    "    return (model_avgs - emp_avgs)**2"
   ]
  },
  {
   "cell_type": "code",
   "execution_count": 115,
   "id": "6ec13404",
   "metadata": {},
   "outputs": [],
   "source": [
    "def get_val_loss(autoencoder,val_data,metric,device):\n",
    "    val_data = torch.tensor(val_data).to(device)\n",
    "    recon=round_output(autoencoder(val_data))\n",
    "    val_metric = metric(val_data,recon)\n",
    "    val_metric = val_metric.sum() / len(val_data)\n",
    "    return val_metric.detach().cpu().numpy()"
   ]
  },
  {
   "cell_type": "markdown",
   "id": "639e9fd9",
   "metadata": {},
   "source": [
    "## Define training loop\n",
    "TO DO:\n",
    "- which metric / arhcitecture? \n",
    "- Ask Andrew about the metrics in his auto-encoder notebook"
   ]
  },
  {
   "cell_type": "code",
   "execution_count": 121,
   "id": "c1080341",
   "metadata": {},
   "outputs": [],
   "source": [
    "def train(autoencoder, train_loader, metric, epochs=10):\n",
    "    opt = torch.optim.Adam(autoencoder.parameters())\n",
    "    \n",
    "    criterion = nn.CrossEntropyLoss().to(device)\n",
    "\n",
    "    train_metrics=[]                \n",
    "    val_metrics=[]\n",
    "    kls = []\n",
    "    BCEs = []\n",
    "    \n",
    "    for epoch in range(epochs):\n",
    "        autoencoder.train()\n",
    "        epoch_metric = 0\n",
    "        i=0\n",
    "        \n",
    "        for batch in tqdm(train_loader):\n",
    "            batch = batch.to(device) # GPU\n",
    "            \n",
    "            opt.zero_grad()\n",
    "            logit_batch = autoencoder(batch)\n",
    "            BCE = criterion(batch, logit_batch)\n",
    "            kl = autoencoder.encoder.kl\n",
    "            batch_loss = BCE + kl\n",
    "            \n",
    "            batch_loss.backward()\n",
    "            opt.step()          \n",
    "                \n",
    "            # look at the components of the loss for each batch\n",
    "            kls.append(kl.detach().cpu().numpy())\n",
    "            BCEs.append(BCE.detach().cpu().numpy())\n",
    "            \n",
    "            # save training metrics\n",
    "            epoch_metric += metric(batch, round_output(logit_batch)).sum()\n",
    "            \n",
    "        \n",
    "        # average train metric over epoch\n",
    "        train_metric = epoch_metric / len(train_data)\n",
    "        train_metric = train_metric.detach().cpu().numpy()\n",
    "        \n",
    "        # calc validation loss\n",
    "        val_metric = get_val_loss(vae,val_data,metric,device)\n",
    "        \n",
    "        # add losses to arrays\n",
    "        train_metrics.append(train_metric)\n",
    "        val_metrics.append(val_metric)\n",
    "        \n",
    "        # print epoch performance\n",
    "        print(f\"Train dice: {np.round(train_metric,2)}, validation dice: {np.round(val_metric,2)}\")\n",
    "        \n",
    "    return autoencoder, train_metrics, val_metrics, kls, BCEs"
   ]
  },
  {
   "cell_type": "code",
   "execution_count": 122,
   "id": "9f264943",
   "metadata": {},
   "outputs": [],
   "source": [
    "NNs = train_data.shape[1]\n",
    "latent_dims = 5\n",
    "encoder_layer_dims = [NNs,10,latent_dims]\n",
    "decoder_layer_dims = [latent_dims,10,NNs]\n",
    "vae = VariationalAutoencoder(encoder_layer_dims, decoder_layer_dims).to(device) # GPU"
   ]
  },
  {
   "cell_type": "code",
   "execution_count": 123,
   "id": "1b20a7d2",
   "metadata": {},
   "outputs": [
    {
     "name": "stderr",
     "output_type": "stream",
     "text": [
      "100%|██████████████████████████████████████| 5671/5671 [00:15<00:00, 361.29it/s]\n"
     ]
    },
    {
     "name": "stdout",
     "output_type": "stream",
     "text": [
      "Train dice: nan, validation dice: nan\n"
     ]
    },
    {
     "name": "stderr",
     "output_type": "stream",
     "text": [
      "100%|██████████████████████████████████████| 5671/5671 [00:15<00:00, 357.25it/s]\n"
     ]
    },
    {
     "name": "stdout",
     "output_type": "stream",
     "text": [
      "Train dice: nan, validation dice: nan\n"
     ]
    }
   ],
   "source": [
    "vae, train_metrics, val_metrics, kls, BCEs  = train(vae, train_data_loader, dice, 2)"
   ]
  },
  {
   "cell_type": "code",
   "execution_count": 124,
   "id": "88b6a2e0",
   "metadata": {},
   "outputs": [
    {
     "data": {
      "text/plain": [
       "[<matplotlib.lines.Line2D at 0x13711d5b0>]"
      ]
     },
     "execution_count": 124,
     "metadata": {},
     "output_type": "execute_result"
    },
    {
     "data": {
      "image/png": "[encoded data removed]",
      "text/plain": [
       "<Figure size 600x400 with 1 Axes>"
      ]
     },
     "metadata": {
      "needs_background": "light"
     },
     "output_type": "display_data"
    }
   ],
   "source": [
    "plt.plot(np.arange(len(kls)),kls,\".\")"
   ]
  },
  {
   "cell_type": "code",
   "execution_count": 125,
   "id": "42d462ec",
   "metadata": {},
   "outputs": [
    {
     "data": {
      "text/plain": [
       "[<matplotlib.lines.Line2D at 0x1371d1280>]"
      ]
     },
     "execution_count": 125,
     "metadata": {},
     "output_type": "execute_result"
    },
    {
     "data": {
      "image/png": "[encoded data removed]",
      "text/plain": [
       "<Figure size 600x400 with 1 Axes>"
      ]
     },
     "metadata": {
      "needs_background": "light"
     },
     "output_type": "display_data"
    }
   ],
   "source": [
    "plt.plot(np.arange(len(kls)),BCEs,\".\")"
   ]
  },
  {
   "cell_type": "code",
   "execution_count": 101,
   "id": "ea0e1b4f",
   "metadata": {},
   "outputs": [
    {
     "data": {
      "text/plain": [
       "[array(0.06052384), array(0.06070294)]"
      ]
     },
     "execution_count": 101,
     "metadata": {},
     "output_type": "execute_result"
    }
   ],
   "source": [
    "train_metrics"
   ]
  },
  {
   "cell_type": "markdown",
   "id": "c717669e",
   "metadata": {},
   "source": [
    "## Sampling from the decoder"
   ]
  },
  {
   "cell_type": "code",
   "execution_count": 102,
   "id": "3fdb589a",
   "metadata": {},
   "outputs": [
    {
     "data": {
      "text/plain": [
       "torch.Size([5])"
      ]
     },
     "execution_count": 102,
     "metadata": {},
     "output_type": "execute_result"
    }
   ],
   "source": [
    "torch.Size([latent_dims])"
   ]
  },
  {
   "cell_type": "code",
   "execution_count": 103,
   "id": "82f44dbd",
   "metadata": {},
   "outputs": [],
   "source": [
    "sample = vae.encoder.N.sample(torch.Size([100,latent_dims]))"
   ]
  },
  {
   "cell_type": "code",
   "execution_count": 104,
   "id": "14381be2",
   "metadata": {},
   "outputs": [],
   "source": [
    "sample = sample.type(torch.float64)"
   ]
  },
  {
   "cell_type": "code",
   "execution_count": 105,
   "id": "b9f586fe",
   "metadata": {},
   "outputs": [
    {
     "data": {
      "text/plain": [
       "tensor([[ 3.3685e-01,  1.4102e+00, -4.0982e-01, -9.5064e-01,  4.4977e-01],\n",
       "        [ 1.7844e+00, -1.5096e+00, -2.0072e+00,  3.3275e-01,  1.2407e+00],\n",
       "        [-1.0050e-01, -3.5910e-01,  1.4990e+00,  1.4078e+00,  8.3376e-01],\n",
       "        [ 6.3897e-01, -1.9603e+00,  2.9493e+00, -1.0031e+00, -9.6365e-01],\n",
       "        [ 6.5555e-01,  2.7005e-01, -1.3969e+00, -2.1680e-01, -5.3186e-01],\n",
       "        [-4.9299e-01, -7.1813e-01,  7.5050e-01, -2.1730e-01,  1.1218e+00],\n",
       "        [ 8.9278e-01,  2.5350e-01, -1.8939e+00,  1.4744e+00,  5.8610e-01],\n",
       "        [ 4.6836e-01,  1.7649e-01,  4.3235e-01, -1.6130e+00,  5.8537e-01],\n",
       "        [ 1.0404e+00,  9.2708e-02, -1.4673e+00, -3.1691e+00,  1.2481e+00],\n",
       "        [ 1.5063e+00, -5.9082e-01, -9.4162e-01, -9.1349e-02, -6.2733e-01],\n",
       "        [ 9.0218e-02,  5.5669e-01,  1.1505e-01, -5.7227e-01, -7.1818e-01],\n",
       "        [-2.4236e+00,  6.0314e-01,  3.9616e-01,  6.1419e-01, -1.1053e+00],\n",
       "        [ 1.8898e-01, -1.6814e-01,  5.7685e-01, -1.6268e+00, -6.9067e-01],\n",
       "        [ 1.0550e+00, -1.6745e+00,  9.8176e-01,  3.7465e-01, -1.8096e+00],\n",
       "        [ 1.1708e+00,  4.0739e-01, -1.5228e+00,  1.7572e-01, -6.2611e-01],\n",
       "        [ 3.7090e-01, -2.0189e+00,  2.9514e-01,  2.3108e-01,  2.8161e-02],\n",
       "        [ 1.1582e+00, -1.2147e-01, -8.6376e-01,  6.1407e-01,  7.2135e-01],\n",
       "        [ 9.8487e-01, -1.1558e+00, -1.5226e-01,  4.6662e-01, -1.0986e+00],\n",
       "        [ 6.4301e-01, -1.6529e+00, -1.3418e+00,  1.0632e+00,  5.5442e-01],\n",
       "        [-1.1425e-01,  3.2510e-02, -4.0046e-02, -9.2401e-01,  7.5216e-01],\n",
       "        [-6.2970e-01,  5.2389e-01, -1.2842e-01, -1.0669e+00, -4.0948e-01],\n",
       "        [-1.2073e+00, -8.7434e-01, -1.3728e-01, -2.3023e-01, -3.2290e-01],\n",
       "        [-1.4323e+00, -1.3114e+00,  2.3262e-01,  1.4605e-01,  3.9575e-01],\n",
       "        [-7.2443e-01, -1.4112e+00, -2.8940e-01,  5.2113e-01, -4.0454e-01],\n",
       "        [-2.0159e+00, -1.8823e+00,  1.2127e+00, -1.0393e+00, -7.7232e-01],\n",
       "        [-4.7177e-01, -1.2535e-01,  6.1680e-01, -1.8250e-02, -1.3294e+00],\n",
       "        [-1.9895e+00,  1.2597e+00, -8.0981e-01, -5.9968e-01,  5.9487e-02],\n",
       "        [ 1.3411e-01,  7.0008e-01, -1.5833e-01,  1.4693e+00, -1.5621e+00],\n",
       "        [-2.6375e-01,  7.1641e-01,  4.2964e-01,  3.2514e-01, -2.2079e+00],\n",
       "        [-4.7752e-01, -2.4181e-01, -3.5452e-01,  1.4713e+00,  8.3457e-01],\n",
       "        [-1.8635e+00, -5.0999e-02, -8.0561e-01,  7.3598e-02,  6.0283e-03],\n",
       "        [-3.0097e-01, -1.4173e+00,  6.3845e-01,  3.9025e-01, -1.3601e+00],\n",
       "        [-9.8012e-02, -6.0105e-02, -1.2035e+00,  4.4640e-01,  8.8175e-02],\n",
       "        [ 8.5409e-01, -1.1680e+00,  2.2024e-01,  1.6680e+00,  1.2835e+00],\n",
       "        [-8.9951e-01,  1.5967e+00, -2.9764e-01, -1.7599e-01, -3.3874e-01],\n",
       "        [-2.1613e-01, -8.6468e-01,  1.2431e+00,  1.7930e-01,  4.9672e-01],\n",
       "        [ 1.3404e+00,  1.6126e-01, -2.2625e-01,  2.5679e+00, -2.0901e+00],\n",
       "        [ 1.4198e-01,  1.1567e+00,  2.8934e+00, -1.9357e+00, -1.2383e+00],\n",
       "        [ 1.7613e+00,  3.1449e-01,  5.6395e-01,  5.8654e-01,  1.7588e-01],\n",
       "        [ 6.0295e-01,  8.8834e-01,  1.4134e-01,  4.1783e-01,  5.4337e-01],\n",
       "        [-1.5590e+00,  5.9835e-02, -6.3693e-01, -8.6778e-01,  7.3516e-01],\n",
       "        [-1.0796e-02,  1.0244e+00, -4.2077e-01,  1.2200e+00, -1.0064e+00],\n",
       "        [ 1.3631e+00,  1.1759e+00, -2.3778e-01,  2.4353e-01, -7.3034e-01],\n",
       "        [-1.0833e+00, -5.7964e-01,  1.1723e+00, -4.1966e-01, -7.1949e-03],\n",
       "        [ 1.7170e-01, -2.0705e+00,  4.0452e-01,  3.5851e-01, -2.3104e+00],\n",
       "        [-2.0088e-01,  1.3281e+00,  5.5565e-01,  1.3749e+00,  6.7339e-01],\n",
       "        [-3.5665e-01, -1.4337e+00,  9.0835e-01, -5.0629e-02,  1.0087e+00],\n",
       "        [-1.3580e+00,  2.2506e-03, -7.5321e-01, -4.7042e-01, -1.5644e+00],\n",
       "        [ 8.4619e-01,  4.3137e-01, -4.6366e-01, -6.9824e-01,  2.6076e-01],\n",
       "        [-9.2325e-01, -7.3441e-01, -7.1543e-01, -1.3107e+00, -9.5685e-01],\n",
       "        [-2.3510e+00, -1.0626e-01, -1.5770e-01,  8.1623e-02,  1.1788e+00],\n",
       "        [-7.6561e-01, -9.2995e-01,  9.9226e-01, -2.8177e+00,  4.0959e-01],\n",
       "        [ 2.1827e-02, -9.2232e-01,  1.5630e-01,  1.4504e-01,  2.4425e-01],\n",
       "        [-3.0986e-01, -7.3774e-02,  1.1348e+00,  1.9235e+00,  9.3651e-01],\n",
       "        [-8.7479e-01,  3.4476e-01,  5.1100e-01, -6.2815e-01,  1.8734e-01],\n",
       "        [-1.4115e+00,  4.1527e-01,  1.1090e+00, -7.7359e-01,  9.6646e-01],\n",
       "        [-3.5328e-01, -5.5770e-02,  1.9011e+00,  4.5608e-02,  9.0750e-01],\n",
       "        [ 6.4079e-02,  2.4348e-01,  7.4597e-01, -2.5474e+00, -9.2347e-01],\n",
       "        [ 4.5335e-01,  3.1345e-01,  4.8145e-01,  1.3159e-01,  8.8240e-01],\n",
       "        [-5.6091e-02,  1.4377e+00, -1.1347e+00, -1.5325e-01,  3.7189e-01],\n",
       "        [-1.7411e+00,  2.3344e-01, -9.1231e-01,  1.1246e+00, -6.2321e-01],\n",
       "        [ 2.0782e-01,  7.5725e-01, -2.4083e-01, -1.3096e+00,  4.0462e-01],\n",
       "        [-1.1105e+00, -1.4083e+00,  1.1873e+00, -7.9767e-01, -1.4208e+00],\n",
       "        [-3.0818e-01, -7.4367e-01,  3.8042e-01, -8.3463e-01, -3.2729e-01],\n",
       "        [-5.8258e-01, -1.0925e+00,  2.1169e-01, -9.0980e-01, -6.5241e-02],\n",
       "        [ 4.7112e-01, -1.0456e+00, -4.3792e-01, -5.1295e-01,  3.9994e-01],\n",
       "        [-1.2166e-02, -1.5134e+00, -1.0957e-01, -1.4323e+00, -1.0930e+00],\n",
       "        [-4.1283e-01,  9.0723e-01, -8.6336e-02, -2.0833e+00,  1.6535e+00],\n",
       "        [ 7.1753e-01,  4.4972e-01,  1.8064e+00,  1.0242e+00, -4.0469e-02],\n",
       "        [ 5.5184e-01, -2.7007e-01,  8.6779e-01,  9.5688e-01, -2.0930e+00],\n",
       "        [-2.3479e+00,  1.4607e+00, -1.8420e-01, -1.7625e+00, -1.7745e+00],\n",
       "        [ 9.1214e-01, -2.6335e-02, -4.3996e-01,  9.2292e-02,  1.2980e-01],\n",
       "        [ 8.6694e-01, -1.5824e-01, -8.2330e-01, -5.9245e-01,  1.7759e-01],\n",
       "        [ 1.1034e+00, -9.8391e-01, -9.5379e-01,  1.3940e+00,  8.4983e-02],\n",
       "        [ 1.5546e+00, -3.5993e-01,  3.5858e-01,  6.7562e-01,  2.0178e+00],\n",
       "        [ 1.4903e+00,  9.8907e-01, -1.3959e+00,  1.0383e+00,  1.5344e+00],\n",
       "        [ 6.7771e-01, -7.3557e-01,  4.8554e-02,  1.5963e+00,  1.8794e+00],\n",
       "        [ 9.1832e-01,  1.7230e-01, -2.2542e-01, -6.9652e-01, -4.3268e-01],\n",
       "        [ 9.9902e-01, -3.0352e-01, -4.6669e-01, -1.7524e+00,  1.6373e-01],\n",
       "        [-1.0560e+00,  8.9983e-01, -3.1421e-01,  2.3861e-01,  1.3985e+00],\n",
       "        [-4.7015e-01,  1.1476e+00,  3.2653e+00, -5.0593e-01,  2.3859e-01],\n",
       "        [ 7.0874e-01,  1.3916e+00, -3.0222e-01,  1.8021e+00,  1.9713e-01],\n",
       "        [ 8.9168e-01,  6.3789e-01,  8.6118e-01, -1.1710e+00, -6.8492e-01],\n",
       "        [ 1.6116e+00,  1.0157e+00, -6.3334e-01, -1.9215e-02, -1.2800e-01],\n",
       "        [ 1.4316e+00,  6.5238e-02,  5.2408e-01,  2.5116e-01, -1.2249e+00],\n",
       "        [-9.3663e-01, -1.2919e+00, -8.4329e-01, -2.4974e-01, -1.1570e-01],\n",
       "        [-9.4179e-01, -4.1553e-01,  1.6132e+00,  9.1670e-01, -1.0868e+00],\n",
       "        [ 3.0298e-01, -1.5741e-01,  1.8893e-01, -1.5439e+00, -1.0307e+00],\n",
       "        [ 7.2309e-02,  8.8676e-01,  1.0502e-01, -2.9940e-01,  8.2372e-01],\n",
       "        [ 1.0878e-01, -1.2882e+00, -2.1978e+00, -1.3413e+00, -1.4725e+00],\n",
       "        [-1.1351e+00,  8.6215e-02, -1.8226e+00, -9.1118e-01,  1.7120e+00],\n",
       "        [-1.0109e-01, -1.1180e+00,  3.4691e-01,  1.2849e-01, -1.7453e+00],\n",
       "        [ 1.1178e+00, -2.5256e-01,  3.3843e-01,  1.6185e-01, -3.3656e-01],\n",
       "        [ 9.1978e-02, -2.0947e-01, -3.0847e-01,  3.0351e-01, -2.9833e-01],\n",
       "        [-1.2110e+00, -8.4869e-01, -1.6356e-01,  1.4852e-01, -1.5631e-01],\n",
       "        [-9.3143e-01,  6.8341e-01,  1.2460e+00,  6.6665e-01, -1.0289e+00],\n",
       "        [ 1.4542e+00, -4.3029e-01,  1.0194e+00, -4.5836e-01, -2.0453e+00],\n",
       "        [ 6.6137e-01,  7.0691e-01, -2.8312e-01,  1.8632e+00, -5.0433e-01],\n",
       "        [ 3.3414e+00, -1.4302e+00,  2.4686e+00,  1.7924e-01, -1.0671e+00],\n",
       "        [ 2.0030e+00, -9.3930e-02,  7.8543e-01,  5.7900e-01,  1.0863e+00]],\n",
       "       dtype=torch.float64)"
      ]
     },
     "execution_count": 105,
     "metadata": {},
     "output_type": "execute_result"
    }
   ],
   "source": [
    "sample"
   ]
  },
  {
   "cell_type": "code",
   "execution_count": 106,
   "id": "fb13fe49",
   "metadata": {},
   "outputs": [],
   "source": [
    "ouputs = round_output(vae.decoder(sample))"
   ]
  },
  {
   "cell_type": "code",
   "execution_count": 107,
   "id": "638eaeac",
   "metadata": {},
   "outputs": [
    {
     "data": {
      "text/plain": [
       "tensor([1., 1., 1., 1., 1., 1., 1., 1., 1., 1.], dtype=torch.float64,\n",
       "       grad_fn=<MeanBackward1>)"
      ]
     },
     "execution_count": 107,
     "metadata": {},
     "output_type": "execute_result"
    }
   ],
   "source": [
    "ouputs.mean(axis=0)"
   ]
  },
  {
   "cell_type": "code",
   "execution_count": 108,
   "id": "68db816f",
   "metadata": {},
   "outputs": [
    {
     "data": {
      "text/plain": [
       "array([0.02742323, 0.008443  , 0.01503428, 0.01626877, 0.02208849,\n",
       "       0.02171373, 0.02420475, 0.07999912, 0.04113485, 0.00555519])"
      ]
     },
     "execution_count": 108,
     "metadata": {},
     "output_type": "execute_result"
    }
   ],
   "source": [
    "np.mean(val_data,axis=0)"
   ]
  }
 ],
 "metadata": {
  "kernelspec": {
   "display_name": "Python 3 (ipykernel)",
   "language": "python",
   "name": "python3"
  },
  "language_info": {
   "codemirror_mode": {
    "name": "ipython",
    "version": 3
   },
   "file_extension": ".py",
   "mimetype": "text/x-python",
   "name": "python",
   "nbconvert_exporter": "python",
   "pygments_lexer": "ipython3",
   "version": "3.9.7"
  }
 },
 "nbformat": 4,
 "nbformat_minor": 5
}
