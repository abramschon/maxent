{
 "cells": [
  {
   "cell_type": "markdown",
   "id": "b8741c21",
   "metadata": {},
   "source": [
    "# Comparing my implementations \n",
    "\n",
    "There is a MaxEnt toolbox in [matlab](https://github.com/orimaoz/maxent_toolbox) and I want to see whether the models I make using my code are the same as the models trained using the matlab toolbox."
   ]
  },
  {
   "cell_type": "markdown",
   "id": "b34702b2",
   "metadata": {},
   "source": [
    "## Read in Data"
   ]
  },
  {
   "cell_type": "code",
   "execution_count": 1,
   "id": "6499a346",
   "metadata": {},
   "outputs": [],
   "source": [
    "import numpy as np\n",
    "import matplotlib.pyplot as plt \n",
    "from numba import njit, prange\n",
    "from math import comb"
   ]
  },
  {
   "cell_type": "code",
   "execution_count": 2,
   "id": "bbab15b5",
   "metadata": {},
   "outputs": [],
   "source": [
    "from matplotlib import rc\n",
    "rc('font',**{'family':'serif','serif':['Baskerville']})\n",
    "rc('text', usetex=True)\n",
    "plt.rcParams[\"font.size\"] = 14 "
   ]
  },
  {
   "cell_type": "code",
   "execution_count": 3,
   "id": "0e5ba9b0",
   "metadata": {},
   "outputs": [],
   "source": [
    "data = np.loadtxt(\"../data/shuffled_data/repeat_shuffle_train.csv\", delimiter=\",\", dtype=int)"
   ]
  },
  {
   "cell_type": "code",
   "execution_count": 4,
   "id": "c8e5ed6f",
   "metadata": {},
   "outputs": [],
   "source": [
    "train = data[:10,:] # first 10 neurons outputs"
   ]
  },
  {
   "cell_type": "code",
   "execution_count": 5,
   "id": "a530a621",
   "metadata": {},
   "outputs": [
    {
     "data": {
      "text/plain": [
       "(10, 226814)"
      ]
     },
     "execution_count": 5,
     "metadata": {},
     "output_type": "execute_result"
    }
   ],
   "source": [
    "N, M = train.shape\n",
    "N, M"
   ]
  },
  {
   "cell_type": "markdown",
   "id": "55e47c6b",
   "metadata": {},
   "source": [
    "## Get expectations needed for models"
   ]
  },
  {
   "cell_type": "markdown",
   "id": "2654f25f",
   "metadata": {},
   "source": [
    "### Avgs"
   ]
  },
  {
   "cell_type": "code",
   "execution_count": 6,
   "id": "d0048d7b",
   "metadata": {},
   "outputs": [],
   "source": [
    "avgs = np.mean(train,axis=1) # get the mean firing of neurons"
   ]
  },
  {
   "cell_type": "code",
   "execution_count": 7,
   "id": "933831e1",
   "metadata": {},
   "outputs": [
    {
     "data": {
      "text/plain": [
       "array([0.02780693, 0.0081256 , 0.01418784, 0.01658628, 0.02141843,\n",
       "       0.02126412, 0.02441648, 0.08030809, 0.04152742, 0.00597847])"
      ]
     },
     "execution_count": 7,
     "metadata": {},
     "output_type": "execute_result"
    }
   ],
   "source": [
    "avgs"
   ]
  },
  {
   "cell_type": "markdown",
   "id": "9d70b018",
   "metadata": {},
   "source": [
    "### Correlations"
   ]
  },
  {
   "cell_type": "code",
   "execution_count": 8,
   "id": "51ce33cd",
   "metadata": {},
   "outputs": [],
   "source": [
    "@njit(parallel=True)\n",
    "def correlations(arr):\n",
    "    N, M = arr.shape\n",
    "    corrs = np.zeros((N,N))\n",
    "    for i in prange(N-1):\n",
    "        for j in prange(i+1,N):\n",
    "            corrs[i,j]=np.sum(arr[i]*arr[j])    \n",
    "    return corrs / M"
   ]
  },
  {
   "cell_type": "code",
   "execution_count": 10,
   "id": "e1220d1e",
   "metadata": {},
   "outputs": [],
   "source": [
    "corr_mat = correlations(train) #correlation matrix\n",
    "corrs = corr_mat[np.triu_indices_from(corr_mat,k=1)]"
   ]
  },
  {
   "cell_type": "markdown",
   "id": "0ac4ee2e",
   "metadata": {},
   "source": [
    "### P(K)"
   ]
  },
  {
   "cell_type": "code",
   "execution_count": 11,
   "id": "3991dd82",
   "metadata": {},
   "outputs": [],
   "source": [
    "counts = np.sum(train,axis=0) # how many neurons fires in each bin\n",
    "count_freq = np.bincount(counts) # tallies how many states with 0, 1, ... N neurons firing there are \n",
    "p_k = np.zeros(N+1)\n",
    "for i in range(len(count_freq)): \n",
    "    p_k[i] = count_freq[i]/M "
   ]
  },
  {
   "cell_type": "code",
   "execution_count": 12,
   "id": "80fca0a7",
   "metadata": {},
   "outputs": [
    {
     "data": {
      "text/plain": [
       "(5,\n",
       " array([7.90502350e-01, 1.67084042e-01, 3.40278819e-02, 7.15564295e-03,\n",
       "        1.13749592e-03, 9.25868774e-05, 0.00000000e+00, 0.00000000e+00,\n",
       "        0.00000000e+00, 0.00000000e+00, 0.00000000e+00]))"
      ]
     },
     "execution_count": 12,
     "metadata": {},
     "output_type": "execute_result"
    }
   ],
   "source": [
    "np.max(counts), p_k"
   ]
  },
  {
   "cell_type": "markdown",
   "id": "ad944ca9",
   "metadata": {},
   "source": [
    "## Train models "
   ]
  },
  {
   "cell_type": "code",
   "execution_count": 15,
   "id": "df0ffba6",
   "metadata": {},
   "outputs": [],
   "source": [
    "from maxent.coarse_models import Independent, PopCount\n",
    "from maxent.numeric_ising import Ising"
   ]
  },
  {
   "cell_type": "markdown",
   "id": "04225021",
   "metadata": {},
   "source": [
    "### Independent"
   ]
  },
  {
   "cell_type": "code",
   "execution_count": 16,
   "id": "d14d3a03",
   "metadata": {},
   "outputs": [],
   "source": [
    "indep = Independent(N, avgs) "
   ]
  },
  {
   "cell_type": "code",
   "execution_count": 18,
   "id": "8046f847",
   "metadata": {},
   "outputs": [],
   "source": [
    "# compare to weights from matlab\n",
    "mat_indep = np.loadtxt(\"../data/pop/indep.csv\", delimiter=\",\", dtype=float)"
   ]
  },
  {
   "cell_type": "code",
   "execution_count": 19,
   "id": "f3985698",
   "metadata": {},
   "outputs": [],
   "source": [
    "def compare_weights(ours, theirs, title=\"Comparison of weights\"):\n",
    "    plt.figure(figsize=(6,6))\n",
    "    min_max = [np.min([ours,theirs]),np.max([ours,theirs])]\n",
    "    plt.plot(min_max,min_max, \"--\", color=\"gray\",alpha=0.2)\n",
    "    plt.plot(ours,theirs,\".\",color=\"black\")\n",
    "    plt.xlabel(\"Our weights\")\n",
    "    plt.ylabel(\"Maxent toolbox\\n weights\",rotation=0,labelpad=60)\n",
    "    plt.title(title)\n",
    "    plt.show()"
   ]
  },
  {
   "cell_type": "code",
   "execution_count": 20,
   "id": "fe035731",
   "metadata": {},
   "outputs": [
    {
     "data": {
      "image/png": "[encoded data removed]",
      "text/plain": [
       "<Figure size 432x432 with 1 Axes>"
      ]
     },
     "metadata": {
      "needs_background": "light"
     },
     "output_type": "display_data"
    }
   ],
   "source": [
    "compare_weights(indep.h,mat_indep, \"Comparison of independent model weights\")"
   ]
  },
  {
   "cell_type": "code",
   "execution_count": 21,
   "id": "052fe969",
   "metadata": {},
   "outputs": [
    {
     "data": {
      "text/plain": [
       "array([3.55426931, 4.80457683, 4.2410808 , 4.0824542 , 3.82185233,\n",
       "       3.8292407 , 3.68777737, 2.43816832, 3.13898705, 5.1135947 ])"
      ]
     },
     "execution_count": 21,
     "metadata": {},
     "output_type": "execute_result"
    }
   ],
   "source": [
    "indep.h"
   ]
  },
  {
   "cell_type": "code",
   "execution_count": 22,
   "id": "67eda2f7",
   "metadata": {},
   "outputs": [
    {
     "data": {
      "image/png": "[encoded data removed]",
      "text/plain": [
       "<Figure size 432x288 with 1 Axes>"
      ]
     },
     "metadata": {
      "needs_background": "light"
     },
     "output_type": "display_data"
    }
   ],
   "source": [
    "plt.plot(range(len(mat_indep)), indep.h-mat_indep,\".\")\n",
    "plt.xlabel(\"Index\")\n",
    "plt.ylabel(\"Our - their weights\")\n",
    "plt.title(\"Difference in weights\")\n",
    "plt.show()"
   ]
  },
  {
   "cell_type": "markdown",
   "id": "8093f321",
   "metadata": {},
   "source": [
    "Compare the predicted distributions"
   ]
  },
  {
   "cell_type": "code",
   "execution_count": 23,
   "id": "7358d4e3",
   "metadata": {},
   "outputs": [],
   "source": [
    "def compare_dist(ours, theirs, xlab=\"Our model\",ylab=\"Maxent toolbox\",title=\"Comparison of probability of each state\"):\n",
    "    plt.figure(figsize=(6,6))\n",
    "    min_max = [np.min([ours,theirs]),np.max([ours,theirs])]\n",
    "    plt.plot(min_max,min_max, \"--\", color=\"gray\",alpha=0.2)\n",
    "    plt.loglog(ours,theirs,\".\",color=\"black\")\n",
    "    plt.xlabel(xlab)\n",
    "    plt.ylabel(ylab,rotation=0,labelpad=60)\n",
    "    plt.title(title)\n",
    "    plt.show()"
   ]
  },
  {
   "cell_type": "code",
   "execution_count": 24,
   "id": "8a553c46",
   "metadata": {},
   "outputs": [],
   "source": [
    "p_mat_states = np.loadtxt(\"../data/pop/indep_dist.csv\", delimiter=\",\", dtype=float) # their predicted prob. of each state\n",
    "p_states = indep.p(indep.states)  # use our model to predict the probability of each state \n",
    "p_flip_states = indep.p(np.flip(indep.states, 1)) # use our model to predict states but flip their representations"
   ]
  },
  {
   "cell_type": "code",
   "execution_count": 25,
   "id": "29bc4f56",
   "metadata": {},
   "outputs": [
    {
     "data": {
      "image/png": "[encoded data removed]",
      "text/plain": [
       "<Figure size 432x432 with 1 Axes>"
      ]
     },
     "metadata": {
      "needs_background": "light"
     },
     "output_type": "display_data"
    }
   ],
   "source": [
    "compare_dist(p_states,p_mat_states, ylab=\"Maxent toolbox\\n (default $\\sigma$)\", title=\"Comparision of $p(\\sigma)$ for independent models\")"
   ]
  },
  {
   "cell_type": "code",
   "execution_count": 26,
   "id": "7ec5a0ff",
   "metadata": {},
   "outputs": [
    {
     "data": {
      "image/png": "[encoded data removed]",
      "text/plain": [
       "<Figure size 432x432 with 1 Axes>"
      ]
     },
     "metadata": {
      "needs_background": "light"
     },
     "output_type": "display_data"
    }
   ],
   "source": [
    "compare_dist(p_flip_states,p_mat_states, xlab=\"Our model with $\\sigma$ flipped\", ylab=\"Maxent toolbox\\n (default $\\sigma$)\", title=\"Comparision of $p(\\sigma)$ for independent models\")"
   ]
  },
  {
   "cell_type": "markdown",
   "id": "e19de991",
   "metadata": {},
   "source": [
    "## P(K)\n",
    "We get very different values for the model parameters for this model. This is because our parameters are just the observed $p(K)$, whereas they consider the potentials $V(K)$. We map between these below. "
   ]
  },
  {
   "cell_type": "code",
   "execution_count": 27,
   "id": "e771b579",
   "metadata": {},
   "outputs": [],
   "source": [
    "pop = PopCount(N,p_k)"
   ]
  },
  {
   "cell_type": "code",
   "execution_count": 28,
   "id": "0e1e32da",
   "metadata": {
    "scrolled": true
   },
   "outputs": [
    {
     "data": {
      "text/plain": [
       "array([7.90502350e-01, 1.67084042e-01, 3.40278819e-02, 7.15564295e-03,\n",
       "       1.13749592e-03, 9.25868774e-05, 0.00000000e+00, 0.00000000e+00,\n",
       "       0.00000000e+00, 0.00000000e+00, 0.00000000e+00])"
      ]
     },
     "execution_count": 28,
     "metadata": {},
     "output_type": "execute_result"
    }
   ],
   "source": [
    "pop.p_K"
   ]
  },
  {
   "cell_type": "code",
   "execution_count": 29,
   "id": "255be822",
   "metadata": {},
   "outputs": [],
   "source": [
    "combs = np.array([comb(N,K) for K in np.arange(N+1)])\n",
    "V_k = -np.log(pop.p_K[:6]/combs[:6])"
   ]
  },
  {
   "cell_type": "code",
   "execution_count": 30,
   "id": "d8a0c3d7",
   "metadata": {},
   "outputs": [],
   "source": [
    "mat_pk = np.loadtxt(\"../data/pop/ksync.csv\", delimiter=\",\", dtype=float)"
   ]
  },
  {
   "cell_type": "markdown",
   "id": "5e7b8696",
   "metadata": {},
   "source": [
    "The difference between `V_k` and `mat_pk` should be equal to the log of the partition function. We can calculate this as $\\sum_K \\exp (-V_K)\\cdot {N \\choose K}$"
   ]
  },
  {
   "cell_type": "code",
   "execution_count": 31,
   "id": "92ffc4c8",
   "metadata": {},
   "outputs": [
    {
     "data": {
      "text/plain": [
       "array([-11.11141292, -11.10878053, -11.10748435, -11.11332012,\n",
       "       -11.10137042, -10.9936522 ])"
      ]
     },
     "execution_count": 31,
     "metadata": {},
     "output_type": "execute_result"
    }
   ],
   "source": [
    "mat_pk[:6]- V_k"
   ]
  },
  {
   "cell_type": "code",
   "execution_count": 32,
   "id": "ecccd065",
   "metadata": {},
   "outputs": [
    {
     "data": {
      "text/plain": [
       "11.110881686575699"
      ]
     },
     "execution_count": 32,
     "metadata": {},
     "output_type": "execute_result"
    }
   ],
   "source": [
    "Z = np.sum(np.exp(-mat_pk)*combs)\n",
    "np.log(Z)"
   ]
  },
  {
   "cell_type": "code",
   "execution_count": 33,
   "id": "af15e906",
   "metadata": {},
   "outputs": [
    {
     "name": "stdout",
     "output_type": "stream",
     "text": [
      "P(K)= 0.7909224053217281 0.7905023499431252\n",
      "P(K)= 0.16673334153956051 0.16708404243124322\n",
      "P(K)= 0.03391247387239906 0.034027881876780096\n",
      "P(K)= 0.0071731128184065315 0.007155642949729734\n",
      "P(K)= 0.0011267281875987332 0.0011374959217684976\n",
      "P(K)= 8.234501592651241e-05 9.25868773532498e-05\n",
      "P(K)= 1.1343425745118349e-05 0.0\n",
      "P(K)= 1.0236951682100818e-05 0.0\n",
      "P(K)= 1.0271624324961279e-05 0.0\n",
      "P(K)= 1.0497332083652326e-05 0.0\n",
      "P(K)= 7.2439105450143985e-06 0.0\n"
     ]
    }
   ],
   "source": [
    "for K in range(N+1):\n",
    "    print(\"P(K)=\", np.exp(-mat_pk)[K]/Z*combs[K], pop.p_K[K])"
   ]
  },
  {
   "cell_type": "code",
   "execution_count": 34,
   "id": "a83bc6d1",
   "metadata": {},
   "outputs": [
    {
     "data": {
      "image/png": "[encoded data removed]",
      "text/plain": [
       "<Figure size 432x432 with 1 Axes>"
      ]
     },
     "metadata": {
      "needs_background": "light"
     },
     "output_type": "display_data"
    }
   ],
   "source": [
    "compare_weights(pop.p_K, np.exp(-mat_pk)*combs/Z,\"Comparison of population count weights\")"
   ]
  },
  {
   "cell_type": "code",
   "execution_count": 36,
   "id": "4fe97090",
   "metadata": {},
   "outputs": [],
   "source": [
    "mat_states = np.loadtxt(\"../data/pop/ksync_dist.csv\", delimiter=\",\", dtype=float)\n",
    "p_states = pop.p(pop.states)"
   ]
  },
  {
   "cell_type": "code",
   "execution_count": 37,
   "id": "f9dd97e7",
   "metadata": {},
   "outputs": [
    {
     "data": {
      "image/png": "[encoded data removed]",
      "text/plain": [
       "<Figure size 432x432 with 1 Axes>"
      ]
     },
     "metadata": {
      "needs_background": "light"
     },
     "output_type": "display_data"
    }
   ],
   "source": [
    "compare_dist(p_states[p_states>0],mat_states[p_states>0], title=\"Comparision of $p(\\sigma)$ for population count models\")"
   ]
  },
  {
   "cell_type": "markdown",
   "id": "7cd23524",
   "metadata": {},
   "source": [
    "### Pairwise model"
   ]
  },
  {
   "cell_type": "code",
   "execution_count": 34,
   "id": "2e5a5e86",
   "metadata": {},
   "outputs": [],
   "source": [
    "ising = Ising(N, avgs, corr_mat, lr=0.5) "
   ]
  },
  {
   "cell_type": "code",
   "execution_count": 35,
   "id": "ffa67cab",
   "metadata": {},
   "outputs": [],
   "source": [
    "ising.lr=15"
   ]
  },
  {
   "cell_type": "code",
   "execution_count": 55,
   "id": "cbaab559",
   "metadata": {
    "scrolled": true
   },
   "outputs": [
    {
     "name": "stdout",
     "output_type": "stream",
     "text": [
      "Difference in averages:\n",
      "[-2.09221463e-10  1.29587884e-08 -7.18050020e-10  2.44819557e-10\n",
      " -3.12374709e-10  1.35879218e-10  1.42438610e-10  2.18595975e-12\n",
      "  8.91809682e-11  1.48360404e-08]\n",
      "Difference in correlations:\n",
      "[ 1.38141269e-08 -4.31225842e-10 -1.06814045e-10 -4.74862559e-10\n",
      "  1.03875404e-10  1.92953516e-10 -7.66104472e-11  1.14262037e-10\n",
      "  8.98324178e-09  4.71654989e-08 -9.85762102e-09 -4.94509655e-09\n",
      " -1.82750635e-09 -2.31714996e-08 -7.59786293e-09 -6.35102759e-09\n",
      " -2.24151325e-06 -2.16401829e-10 -1.74742495e-09  1.62001269e-10\n",
      "  6.33779583e-10 -4.25206511e-10  5.23480987e-10  1.41002790e-08\n",
      "  3.44148858e-10 -1.45054224e-10  2.13562273e-10  4.66257566e-11\n",
      " -9.56683449e-11 -5.52649596e-08  4.40400273e-11  3.72066981e-10\n",
      "  3.07209050e-10  1.60044471e-10  7.84024021e-08  7.70512998e-11\n",
      " -5.71242116e-11 -6.44308540e-11 -2.47491558e-08  7.42956820e-11\n",
      " -8.72561540e-11 -1.31939892e-08  6.28173208e-12  1.90996566e-08\n",
      " -1.39690849e-08]\n"
     ]
    }
   ],
   "source": [
    "ising.gradient_ascent() # 500 steps \n",
    "corr_diff =  ising.correlations() - corr_mat\n",
    "flat_corr = corr_diff[np.triu_indices_from(corr_diff,1)]\n",
    "print(\"Difference in averages:\", ising.averages() - avgs, \"Difference in correlations:\", flat_corr, sep=\"\\n\")"
   ]
  },
  {
   "cell_type": "markdown",
   "id": "281c438c",
   "metadata": {},
   "source": [
    "Compare local fields:"
   ]
  },
  {
   "cell_type": "code",
   "execution_count": 56,
   "id": "3cc07a32",
   "metadata": {},
   "outputs": [
    {
     "data": {
      "text/plain": [
       "array([3.75351885, 4.95245782, 4.65326083, 4.14218959, 4.53338534,\n",
       "       4.10001694, 3.79158359, 2.65777947, 3.21957838, 5.11512   ])"
      ]
     },
     "execution_count": 56,
     "metadata": {},
     "output_type": "execute_result"
    }
   ],
   "source": [
    "ising.h"
   ]
  },
  {
   "cell_type": "code",
   "execution_count": 57,
   "id": "addc28f5",
   "metadata": {},
   "outputs": [],
   "source": [
    "mat_ising = np.loadtxt(\"../data/pop/m_pwise.csv\", delimiter=\",\", dtype=float)"
   ]
  },
  {
   "cell_type": "code",
   "execution_count": 58,
   "id": "7d19b81f",
   "metadata": {},
   "outputs": [
    {
     "data": {
      "image/png": "[encoded data removed]",
      "text/plain": [
       "<Figure size 432x432 with 1 Axes>"
      ]
     },
     "metadata": {
      "needs_background": "light"
     },
     "output_type": "display_data"
    }
   ],
   "source": [
    "compare_weights(ising.h,mat_ising[:N],\"Comparison of pairwise local fields $h$\")"
   ]
  },
  {
   "cell_type": "code",
   "execution_count": 59,
   "id": "8a03545a",
   "metadata": {},
   "outputs": [
    {
     "data": {
      "text/plain": [
       "array([[ 0.        , -0.36196264, -1.57802787,  0.85194289, -1.04041783,\n",
       "        -0.10221599, -0.31015389, -0.75629573,  0.21176673, -0.69330977],\n",
       "       [ 0.        ,  0.        , -0.50584702, -0.71572293, -1.05770114,\n",
       "        -0.50421455,  0.68573359, -0.56611888,  0.28640748,  0.08192788],\n",
       "       [ 0.        ,  0.        ,  0.        , -0.6048824 , -2.08961703,\n",
       "        -0.48624579, -0.74682705, -0.53413385,  0.73228488, -1.5882105 ],\n",
       "       [ 0.        ,  0.        ,  0.        ,  0.        , -0.93667532,\n",
       "        -0.62096332,  0.48078711, -0.38850508,  0.8124479 ,  0.8403782 ],\n",
       "       [ 0.        ,  0.        ,  0.        ,  0.        ,  0.        ,\n",
       "        -1.25915905, -0.45313312, -1.97507958, -0.43756958,  0.2013129 ],\n",
       "       [ 0.        ,  0.        ,  0.        ,  0.        ,  0.        ,\n",
       "         0.        , -1.73779614, -0.69778198,  0.32694945,  0.2139679 ],\n",
       "       [ 0.        ,  0.        ,  0.        ,  0.        ,  0.        ,\n",
       "         0.        ,  0.        ,  0.04575473,  0.31619875,  0.07641795],\n",
       "       [ 0.        ,  0.        ,  0.        ,  0.        ,  0.        ,\n",
       "         0.        ,  0.        ,  0.        , -0.92213544,  0.63473893],\n",
       "       [ 0.        ,  0.        ,  0.        ,  0.        ,  0.        ,\n",
       "         0.        ,  0.        ,  0.        ,  0.        ,  0.65278637],\n",
       "       [ 0.        ,  0.        ,  0.        ,  0.        ,  0.        ,\n",
       "         0.        ,  0.        ,  0.        ,  0.        ,  0.        ]])"
      ]
     },
     "execution_count": 59,
     "metadata": {},
     "output_type": "execute_result"
    }
   ],
   "source": [
    "ising.J"
   ]
  },
  {
   "cell_type": "code",
   "execution_count": 60,
   "id": "3f1af614",
   "metadata": {},
   "outputs": [],
   "source": [
    "def flatten_corr(corr):\n",
    "    N = len(corr)\n",
    "    flat_corr = np.zeros(N*(N-1)//2)\n",
    "    k = 0\n",
    "    for i in range(N-1): # go through each row \n",
    "        for j in range(i+1,N): # go through each column\n",
    "            flat_corr[k] = corr[i,j]\n",
    "            k+=1\n",
    "    return flat_corr"
   ]
  },
  {
   "cell_type": "code",
   "execution_count": 61,
   "id": "8de71a97",
   "metadata": {},
   "outputs": [],
   "source": [
    "flat_J = flatten_corr(ising.J)"
   ]
  },
  {
   "cell_type": "markdown",
   "id": "32937f0e",
   "metadata": {},
   "source": [
    "We are not sure how they have collapsed all pairwise interactions into an array, so we are going to try figure that out. "
   ]
  },
  {
   "cell_type": "code",
   "execution_count": 62,
   "id": "f9a55840",
   "metadata": {},
   "outputs": [
    {
     "data": {
      "image/png": "[encoded data removed]",
      "text/plain": [
       "<Figure size 432x432 with 1 Axes>"
      ]
     },
     "metadata": {
      "needs_background": "light"
     },
     "output_type": "display_data"
    }
   ],
   "source": [
    "compare_weights(flat_J,mat_ising[N:],\"Comparison of pairwise interaction parameters $J$\")"
   ]
  },
  {
   "cell_type": "code",
   "execution_count": 63,
   "id": "b1f24bcf",
   "metadata": {},
   "outputs": [],
   "source": [
    "p_states = ising.p(np.flip(ising.states, 1))"
   ]
  },
  {
   "cell_type": "code",
   "execution_count": 64,
   "id": "62f2dcfb",
   "metadata": {},
   "outputs": [],
   "source": [
    "mat_states= np.loadtxt(\"../data/pop/m_pwise_dist.csv\", delimiter=\",\", dtype=float)"
   ]
  },
  {
   "cell_type": "code",
   "execution_count": 65,
   "id": "93d11d32",
   "metadata": {},
   "outputs": [
    {
     "data": {
      "image/png": "[encoded data removed]",
      "text/plain": [
       "<Figure size 432x432 with 1 Axes>"
      ]
     },
     "metadata": {
      "needs_background": "light"
     },
     "output_type": "display_data"
    }
   ],
   "source": [
    "compare_dist(p_states,mat_states, xlab=\"Our model with $\\sigma$ flipped\", ylab=\"Maxent toolbox\", title=\"Comparision of $p(\\sigma)$ for pairwise models\")"
   ]
  }
 ],
 "metadata": {
  "kernelspec": {
   "display_name": "Python 3 (ipykernel)",
   "language": "python",
   "name": "python3"
  },
  "language_info": {
   "codemirror_mode": {
    "name": "ipython",
    "version": 3
   },
   "file_extension": ".py",
   "mimetype": "text/x-python",
   "name": "python",
   "nbconvert_exporter": "python",
   "pygments_lexer": "ipython3",
   "version": "3.9.7"
  }
 },
 "nbformat": 4,
 "nbformat_minor": 5
}
